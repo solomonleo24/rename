{
 "cells": [
  {
   "cell_type": "code",
   "execution_count": 10,
   "id": "eabd51c5",
   "metadata": {},
   "outputs": [],
   "source": [
    "# Imports\n",
    "from scripts.processing import get_embeddings\n",
    "from scripts.comparison import find_similar_names\n",
    "from scripts.scraping import extract_texts\n",
    "import json\n",
    "import numpy as np\n",
    "import pandas as pd\n",
    "import networkx as nx\n",
    "import plotly.graph_objects as go"
   ]
  },
  {
   "cell_type": "code",
   "execution_count": null,
   "id": "3e95d981",
   "metadata": {},
   "outputs": [
    {
     "name": "stderr",
     "output_type": "stream",
     "text": [
      "Some characters could not be decoded, and were replaced with REPLACEMENT CHARACTER.\n"
     ]
    },
    {
     "name": "stdout",
     "output_type": "stream",
     "text": [
      "Processed Arya\n",
      "Processed Sully\n",
      "Error processing https://www.familyeducation.com/baby-names/list-ideas/the-ultimate-list-of-victorian-girl-names: Article `download()` failed with 403 Client Error: Forbidden for url: https://www.familyeducation.com/baby-names/list-ideas/the-ultimate-list-of-victorian-girl-names on URL https://www.familyeducation.com/baby-names/list-ideas/the-ultimate-list-of-victorian-girl-names\n",
      "Processed Victoria\n",
      "Error processing https://www.newsweek.com/tropical-storm-erin-tracker-live-updates-hurricane-2111872: Article `download()` failed with 403 Client Error: Forbidden for url: https://www.newsweek.com/tropical-storm-erin-tracker-live-updates-hurricane-2111872 on URL https://www.newsweek.com/tropical-storm-erin-tracker-live-updates-hurricane-2111872\n",
      "Processed Erin\n",
      "Processed Hailey\n",
      "Processed Mike\n",
      "Processed Blanton\n",
      "Error processing https://www.names.org/n/hanjing/about: Article `download()` failed with 403 Client Error: Forbidden for url: https://www.names.org/n/hanjing/about on URL https://www.names.org/n/hanjing/about\n",
      "Processed Hanjing\n",
      "Processed Francis\n",
      "Processed Benjamin\n",
      "Error processing https://www.moonastro.com/babyname/baby+name+aihan+meaning.aspx: Article `download()` failed with 404 Client Error: Not Found for url: https://www.moonastro.com/babyname/baby+name+aihan+meaning.aspx on URL https://www.moonastro.com/babyname/baby+name+aihan+meaning.aspx\n",
      "Processed Aihan\n"
     ]
    }
   ],
   "source": [
    "# Make articles json\n",
    "articles = extract_texts('data/friends.txt')\n",
    "\n",
    "# Write articles to JSON file\n",
    "with open('friend_data/friends_articles.json', 'w') as f:\n",
    "    json.dump(articles, f)"
   ]
  },
  {
   "cell_type": "code",
   "execution_count": null,
   "id": "8e0fd304",
   "metadata": {},
   "outputs": [
    {
     "name": "stdout",
     "output_type": "stream",
     "text": [
      "Processed Arya with 4 texts\n",
      "Processed Sully with 4 texts\n",
      "Processed Victoria with 4 texts\n",
      "Processed Erin with 4 texts\n",
      "Processed Hailey with 3 texts\n",
      "Processed Mike with 5 texts\n",
      "Processed Blanton with 5 texts\n",
      "Processed Hanjing with 3 texts\n",
      "Processed Francis with 5 texts\n",
      "Processed Benjamin with 5 texts\n",
      "Processed Aihan with 3 texts\n"
     ]
    }
   ],
   "source": [
    "# Read articles json and make embeddings\n",
    "with open('friend_data/friends_articles.json', 'r') as f:\n",
    "    articles = json.load(f)\n",
    "\n",
    "embeddings = get_embeddings(articles)"
   ]
  },
  {
   "cell_type": "code",
   "execution_count": null,
   "id": "6d9fc046",
   "metadata": {},
   "outputs": [],
   "source": [
    "# Convert embeddings to dict of lists for semantic and sentiment\n",
    "for key in embeddings.keys():\n",
    "    embeddings[key] = {\n",
    "        'semantic': np.array(embeddings[key]['semantic']).tolist(),\n",
    "        'sentiment': np.array(embeddings[key]['sentiment']).tolist()\n",
    "    }\n",
    "\n",
    "# Write to json file\n",
    "with open('friend_data/friends_embeddings.json', 'w') as f:\n",
    "    json.dump(embeddings, f, indent=4)"
   ]
  },
  {
   "cell_type": "code",
   "execution_count": 17,
   "id": "743e6542",
   "metadata": {},
   "outputs": [
    {
     "name": "stdout",
     "output_type": "stream",
     "text": [
      "Similar names to Sully:\n",
      "Blanton: 0.7050\n",
      "Aihan: 0.6647\n",
      "Hanjing: 0.6562\n",
      "Victoria: 0.6285\n",
      "Francis: 0.5135\n"
     ]
    }
   ],
   "source": [
    "# Read embeddings from JSON file\n",
    "with open('friend_data/friends_embeddings.json', 'r') as f:\n",
    "    embeddings = json.load(f)\n",
    "\n",
    "# Find similar names\n",
    "target_name = \"Sully\"\n",
    "similar_names = find_similar_names(target_name, embeddings, top_k=5 , w=0.5)\n",
    "\n",
    "print(f\"Similar names to {target_name}:\")\n",
    "for name, score in similar_names:\n",
    "    print(f\"{name}: {score:.4f}\")"
   ]
  },
  {
   "cell_type": "code",
   "execution_count": 18,
   "id": "61dcb015",
   "metadata": {},
   "outputs": [
    {
     "data": {
      "application/vnd.microsoft.datawrangler.viewer.v0+json": {
       "columns": [
        {
         "name": "index",
         "rawType": "object",
         "type": "string"
        },
        {
         "name": "Arya",
         "rawType": "object",
         "type": "unknown"
        },
        {
         "name": "Sully",
         "rawType": "object",
         "type": "unknown"
        },
        {
         "name": "Victoria",
         "rawType": "object",
         "type": "unknown"
        },
        {
         "name": "Erin",
         "rawType": "object",
         "type": "unknown"
        },
        {
         "name": "Hailey",
         "rawType": "object",
         "type": "unknown"
        },
        {
         "name": "Mike",
         "rawType": "object",
         "type": "unknown"
        },
        {
         "name": "Blanton",
         "rawType": "object",
         "type": "unknown"
        },
        {
         "name": "Hanjing",
         "rawType": "object",
         "type": "unknown"
        },
        {
         "name": "Francis",
         "rawType": "object",
         "type": "unknown"
        },
        {
         "name": "Benjamin",
         "rawType": "object",
         "type": "unknown"
        },
        {
         "name": "Aihan",
         "rawType": "object",
         "type": "unknown"
        }
       ],
       "ref": "eaf38b4a-2067-4168-921d-b68bedb3119a",
       "rows": [
        [
         "Arya",
         "1",
         "0.27108648589777146",
         "0.3048952231935165",
         "0.0503930228542763",
         "-0.14409267011583887",
         "-0.023669000221546242",
         "0.3157114835721555",
         "0.3327355457327052",
         "0.18404930415056145",
         "0.345832438380884",
         "0.5108896210349072"
        ],
        [
         "Sully",
         "0.27108648589777146",
         "1",
         "0.2845486692969997",
         "0.05201459736902578",
         "-0.0005153927289642812",
         "0.017736330782485474",
         "0.41316567172009805",
         "0.313282153907526",
         "0.38073922672605975",
         "0.345902153612592",
         "0.32931993413540567"
        ],
        [
         "Victoria",
         "0.3048952231935165",
         "0.2845486692969997",
         "1",
         "0.03668802253604525",
         "0.1067912376444765",
         "-0.025678421255170517",
         "0.2839950689302627",
         "0.334845659031353",
         "0.3956302495838837",
         "0.30969583163676917",
         "0.2613044144122566"
        ],
        [
         "Erin",
         "0.0503930228542763",
         "0.05201459736902578",
         "0.03668802253604525",
         "1",
         "0.1259352786230328",
         "0.14307582569981653",
         "0.06618611180073711",
         "0.05391626124432802",
         "-0.02099651535651436",
         "0.026254623384436772",
         "0.04652716682010514"
        ],
        [
         "Hailey",
         "-0.14409267011583887",
         "-0.0005153927289642812",
         "0.1067912376444765",
         "0.1259352786230328",
         "1",
         "0.10781164303560697",
         "0.06438330686850556",
         "0.07762858797029867",
         "0.007813320308741",
         "0.09279253352476358",
         "-0.02537859279804608"
        ],
        [
         "Mike",
         "-0.023669000221546242",
         "0.017736330782485474",
         "-0.025678421255170517",
         "0.14307582569981653",
         "0.10781164303560697",
         "1",
         "0.032791267725525416",
         "-0.07649193704996096",
         "0.05371005800964179",
         "0.13782015609868742",
         "0.014915579982274399"
        ],
        [
         "Blanton",
         "0.3157114835721555",
         "0.41316567172009805",
         "0.2839950689302627",
         "0.06618611180073711",
         "0.06438330686850556",
         "0.032791267725525416",
         "1",
         "0.24933429676819518",
         "0.3308170727294537",
         "0.43799611788716236",
         "0.3120844952130264"
        ],
        [
         "Hanjing",
         "0.3327355457327052",
         "0.313282153907526",
         "0.334845659031353",
         "0.05391626124432802",
         "0.07762858797029867",
         "-0.07649193704996096",
         "0.24933429676819518",
         "1",
         "0.2610345930076525",
         "0.319648514830035",
         "0.4095736746963038"
        ],
        [
         "Francis",
         "0.18404930415056145",
         "0.38073922672605975",
         "0.3956302495838837",
         "-0.02099651535651436",
         "0.007813320308741",
         "0.05371005800964179",
         "0.3308170727294537",
         "0.2610345930076525",
         "1",
         "0.42455063942160093",
         "0.21073860482476145"
        ],
        [
         "Benjamin",
         "0.345832438380884",
         "0.345902153612592",
         "0.30969583163676917",
         "0.026254623384436772",
         "0.09279253352476358",
         "0.13782015609868742",
         "0.43799611788716236",
         "0.319648514830035",
         "0.42455063942160093",
         "1",
         "0.5093327049527197"
        ],
        [
         "Aihan",
         "0.5108896210349072",
         "0.32931993413540567",
         "0.2613044144122566",
         "0.04652716682010514",
         "-0.02537859279804608",
         "0.014915579982274399",
         "0.3120844952130264",
         "0.4095736746963038",
         "0.21073860482476145",
         "0.5093327049527197",
         "1"
        ]
       ],
       "shape": {
        "columns": 11,
        "rows": 11
       }
      },
      "text/html": [
       "<div>\n",
       "<style scoped>\n",
       "    .dataframe tbody tr th:only-of-type {\n",
       "        vertical-align: middle;\n",
       "    }\n",
       "\n",
       "    .dataframe tbody tr th {\n",
       "        vertical-align: top;\n",
       "    }\n",
       "\n",
       "    .dataframe thead th {\n",
       "        text-align: right;\n",
       "    }\n",
       "</style>\n",
       "<table border=\"1\" class=\"dataframe\">\n",
       "  <thead>\n",
       "    <tr style=\"text-align: right;\">\n",
       "      <th></th>\n",
       "      <th>Arya</th>\n",
       "      <th>Sully</th>\n",
       "      <th>Victoria</th>\n",
       "      <th>Erin</th>\n",
       "      <th>Hailey</th>\n",
       "      <th>Mike</th>\n",
       "      <th>Blanton</th>\n",
       "      <th>Hanjing</th>\n",
       "      <th>Francis</th>\n",
       "      <th>Benjamin</th>\n",
       "      <th>Aihan</th>\n",
       "    </tr>\n",
       "  </thead>\n",
       "  <tbody>\n",
       "    <tr>\n",
       "      <th>Arya</th>\n",
       "      <td>1</td>\n",
       "      <td>0.271086</td>\n",
       "      <td>0.304895</td>\n",
       "      <td>0.050393</td>\n",
       "      <td>-0.144093</td>\n",
       "      <td>-0.023669</td>\n",
       "      <td>0.315711</td>\n",
       "      <td>0.332736</td>\n",
       "      <td>0.184049</td>\n",
       "      <td>0.345832</td>\n",
       "      <td>0.51089</td>\n",
       "    </tr>\n",
       "    <tr>\n",
       "      <th>Sully</th>\n",
       "      <td>0.271086</td>\n",
       "      <td>1</td>\n",
       "      <td>0.284549</td>\n",
       "      <td>0.052015</td>\n",
       "      <td>-0.000515</td>\n",
       "      <td>0.017736</td>\n",
       "      <td>0.413166</td>\n",
       "      <td>0.313282</td>\n",
       "      <td>0.380739</td>\n",
       "      <td>0.345902</td>\n",
       "      <td>0.32932</td>\n",
       "    </tr>\n",
       "    <tr>\n",
       "      <th>Victoria</th>\n",
       "      <td>0.304895</td>\n",
       "      <td>0.284549</td>\n",
       "      <td>1</td>\n",
       "      <td>0.036688</td>\n",
       "      <td>0.106791</td>\n",
       "      <td>-0.025678</td>\n",
       "      <td>0.283995</td>\n",
       "      <td>0.334846</td>\n",
       "      <td>0.39563</td>\n",
       "      <td>0.309696</td>\n",
       "      <td>0.261304</td>\n",
       "    </tr>\n",
       "    <tr>\n",
       "      <th>Erin</th>\n",
       "      <td>0.050393</td>\n",
       "      <td>0.052015</td>\n",
       "      <td>0.036688</td>\n",
       "      <td>1</td>\n",
       "      <td>0.125935</td>\n",
       "      <td>0.143076</td>\n",
       "      <td>0.066186</td>\n",
       "      <td>0.053916</td>\n",
       "      <td>-0.020997</td>\n",
       "      <td>0.026255</td>\n",
       "      <td>0.046527</td>\n",
       "    </tr>\n",
       "    <tr>\n",
       "      <th>Hailey</th>\n",
       "      <td>-0.144093</td>\n",
       "      <td>-0.000515</td>\n",
       "      <td>0.106791</td>\n",
       "      <td>0.125935</td>\n",
       "      <td>1</td>\n",
       "      <td>0.107812</td>\n",
       "      <td>0.064383</td>\n",
       "      <td>0.077629</td>\n",
       "      <td>0.007813</td>\n",
       "      <td>0.092793</td>\n",
       "      <td>-0.025379</td>\n",
       "    </tr>\n",
       "    <tr>\n",
       "      <th>Mike</th>\n",
       "      <td>-0.023669</td>\n",
       "      <td>0.017736</td>\n",
       "      <td>-0.025678</td>\n",
       "      <td>0.143076</td>\n",
       "      <td>0.107812</td>\n",
       "      <td>1</td>\n",
       "      <td>0.032791</td>\n",
       "      <td>-0.076492</td>\n",
       "      <td>0.05371</td>\n",
       "      <td>0.13782</td>\n",
       "      <td>0.014916</td>\n",
       "    </tr>\n",
       "    <tr>\n",
       "      <th>Blanton</th>\n",
       "      <td>0.315711</td>\n",
       "      <td>0.413166</td>\n",
       "      <td>0.283995</td>\n",
       "      <td>0.066186</td>\n",
       "      <td>0.064383</td>\n",
       "      <td>0.032791</td>\n",
       "      <td>1</td>\n",
       "      <td>0.249334</td>\n",
       "      <td>0.330817</td>\n",
       "      <td>0.437996</td>\n",
       "      <td>0.312084</td>\n",
       "    </tr>\n",
       "    <tr>\n",
       "      <th>Hanjing</th>\n",
       "      <td>0.332736</td>\n",
       "      <td>0.313282</td>\n",
       "      <td>0.334846</td>\n",
       "      <td>0.053916</td>\n",
       "      <td>0.077629</td>\n",
       "      <td>-0.076492</td>\n",
       "      <td>0.249334</td>\n",
       "      <td>1</td>\n",
       "      <td>0.261035</td>\n",
       "      <td>0.319649</td>\n",
       "      <td>0.409574</td>\n",
       "    </tr>\n",
       "    <tr>\n",
       "      <th>Francis</th>\n",
       "      <td>0.184049</td>\n",
       "      <td>0.380739</td>\n",
       "      <td>0.39563</td>\n",
       "      <td>-0.020997</td>\n",
       "      <td>0.007813</td>\n",
       "      <td>0.05371</td>\n",
       "      <td>0.330817</td>\n",
       "      <td>0.261035</td>\n",
       "      <td>1</td>\n",
       "      <td>0.424551</td>\n",
       "      <td>0.210739</td>\n",
       "    </tr>\n",
       "    <tr>\n",
       "      <th>Benjamin</th>\n",
       "      <td>0.345832</td>\n",
       "      <td>0.345902</td>\n",
       "      <td>0.309696</td>\n",
       "      <td>0.026255</td>\n",
       "      <td>0.092793</td>\n",
       "      <td>0.13782</td>\n",
       "      <td>0.437996</td>\n",
       "      <td>0.319649</td>\n",
       "      <td>0.424551</td>\n",
       "      <td>1</td>\n",
       "      <td>0.509333</td>\n",
       "    </tr>\n",
       "    <tr>\n",
       "      <th>Aihan</th>\n",
       "      <td>0.51089</td>\n",
       "      <td>0.32932</td>\n",
       "      <td>0.261304</td>\n",
       "      <td>0.046527</td>\n",
       "      <td>-0.025379</td>\n",
       "      <td>0.014916</td>\n",
       "      <td>0.312084</td>\n",
       "      <td>0.409574</td>\n",
       "      <td>0.210739</td>\n",
       "      <td>0.509333</td>\n",
       "      <td>1</td>\n",
       "    </tr>\n",
       "  </tbody>\n",
       "</table>\n",
       "</div>"
      ],
      "text/plain": [
       "              Arya     Sully  Victoria      Erin    Hailey      Mike  \\\n",
       "Arya             1  0.271086  0.304895  0.050393 -0.144093 -0.023669   \n",
       "Sully     0.271086         1  0.284549  0.052015 -0.000515  0.017736   \n",
       "Victoria  0.304895  0.284549         1  0.036688  0.106791 -0.025678   \n",
       "Erin      0.050393  0.052015  0.036688         1  0.125935  0.143076   \n",
       "Hailey   -0.144093 -0.000515  0.106791  0.125935         1  0.107812   \n",
       "Mike     -0.023669  0.017736 -0.025678  0.143076  0.107812         1   \n",
       "Blanton   0.315711  0.413166  0.283995  0.066186  0.064383  0.032791   \n",
       "Hanjing   0.332736  0.313282  0.334846  0.053916  0.077629 -0.076492   \n",
       "Francis   0.184049  0.380739   0.39563 -0.020997  0.007813   0.05371   \n",
       "Benjamin  0.345832  0.345902  0.309696  0.026255  0.092793   0.13782   \n",
       "Aihan      0.51089   0.32932  0.261304  0.046527 -0.025379  0.014916   \n",
       "\n",
       "           Blanton   Hanjing   Francis  Benjamin     Aihan  \n",
       "Arya      0.315711  0.332736  0.184049  0.345832   0.51089  \n",
       "Sully     0.413166  0.313282  0.380739  0.345902   0.32932  \n",
       "Victoria  0.283995  0.334846   0.39563  0.309696  0.261304  \n",
       "Erin      0.066186  0.053916 -0.020997  0.026255  0.046527  \n",
       "Hailey    0.064383  0.077629  0.007813  0.092793 -0.025379  \n",
       "Mike      0.032791 -0.076492   0.05371   0.13782  0.014916  \n",
       "Blanton          1  0.249334  0.330817  0.437996  0.312084  \n",
       "Hanjing   0.249334         1  0.261035  0.319649  0.409574  \n",
       "Francis   0.330817  0.261035         1  0.424551  0.210739  \n",
       "Benjamin  0.437996  0.319649  0.424551         1  0.509333  \n",
       "Aihan     0.312084  0.409574  0.210739  0.509333         1  "
      ]
     },
     "metadata": {},
     "output_type": "display_data"
    }
   ],
   "source": [
    "# Calculate similarity matrix\n",
    "similarity_matrix = pd.DataFrame(index=embeddings.keys(), columns=embeddings.keys())\n",
    "for name1 in embeddings.keys():\n",
    "    for name2 in embeddings.keys():\n",
    "        if name1 != name2:\n",
    "            score = np.dot(embeddings[name1]['semantic'], embeddings[name2]['semantic'])\n",
    "        else:\n",
    "            score = 1\n",
    "\n",
    "        similarity_matrix.loc[name1, name2] = score\n",
    "\n",
    "display(similarity_matrix)\n",
    "\n"
   ]
  },
  {
   "cell_type": "code",
   "execution_count": null,
   "id": "c2f4fc98",
   "metadata": {},
   "outputs": [
    {
     "data": {
      "application/vnd.plotly.v1+json": {
       "config": {
        "plotlyServerURL": "https://plot.ly"
       },
       "data": [
        {
         "hoverinfo": "text",
         "line": {
          "color": "rgba(159,0,96,0.8)",
          "width": 2
         },
         "mode": "lines",
         "text": [
          "Arya — Sully: 0.27"
         ],
         "type": "scatter",
         "x": [
          0.14207483422554526,
          0.19687949553048523
         ],
         "y": [
          -0.16958432756977457,
          -0.2693694554476499
         ]
        },
        {
         "hoverinfo": "text",
         "line": {
          "color": "rgba(136,0,119,0.8)",
          "width": 2
         },
         "mode": "lines",
         "text": [
          "Arya — Victoria: 0.30"
         ],
         "type": "scatter",
         "x": [
          0.14207483422554526,
          -0.03933258829839197
         ],
         "y": [
          -0.16958432756977457,
          -0.3855166435766241
         ]
        },
        {
         "hoverinfo": "text",
         "line": {
          "color": "rgba(129,0,126,0.8)",
          "width": 2
         },
         "mode": "lines",
         "text": [
          "Arya — Blanton: 0.32"
         ],
         "type": "scatter",
         "x": [
          0.14207483422554526,
          0.14719510739016986
         ],
         "y": [
          -0.16958432756977457,
          -0.3504896608957355
         ]
        },
        {
         "hoverinfo": "text",
         "line": {
          "color": "rgba(118,0,137,0.8)",
          "width": 2
         },
         "mode": "lines",
         "text": [
          "Arya — Hanjing: 0.33"
         ],
         "type": "scatter",
         "x": [
          0.14207483422554526,
          0.07277029765116749
         ],
         "y": [
          -0.16958432756977457,
          -0.41796965179805623
         ]
        },
        {
         "hoverinfo": "text",
         "line": {
          "color": "rgba(217,0,38,0.8)",
          "width": 2
         },
         "mode": "lines",
         "text": [
          "Arya — Francis: 0.18"
         ],
         "type": "scatter",
         "x": [
          0.14207483422554526,
          -0.07579203153190024
         ],
         "y": [
          -0.16958432756977457,
          -0.27421000624791814
         ]
        },
        {
         "hoverinfo": "text",
         "line": {
          "color": "rgba(109,0,146,0.8)",
          "width": 2
         },
         "mode": "lines",
         "text": [
          "Arya — Benjamin: 0.35"
         ],
         "type": "scatter",
         "x": [
          0.14207483422554526,
          -0.006096183926448528
         ],
         "y": [
          -0.16958432756977457,
          -0.12853753943049417
         ]
        },
        {
         "hoverinfo": "text",
         "line": {
          "color": "rgba(0,0,255,0.8)",
          "width": 2
         },
         "mode": "lines",
         "text": [
          "Arya — Aihan: 0.51"
         ],
         "type": "scatter",
         "x": [
          0.14207483422554526,
          0.04660251077880218
         ],
         "y": [
          -0.16958432756977457,
          -0.24764861049675485
         ]
        },
        {
         "hoverinfo": "text",
         "line": {
          "color": "rgba(150,0,105,0.8)",
          "width": 2
         },
         "mode": "lines",
         "text": [
          "Sully — Victoria: 0.28"
         ],
         "type": "scatter",
         "x": [
          0.19687949553048523,
          -0.03933258829839197
         ],
         "y": [
          -0.2693694554476499,
          -0.3855166435766241
         ]
        },
        {
         "hoverinfo": "text",
         "line": {
          "color": "rgba(65,0,190,0.8)",
          "width": 2
         },
         "mode": "lines",
         "text": [
          "Sully — Blanton: 0.41"
         ],
         "type": "scatter",
         "x": [
          0.19687949553048523,
          0.14719510739016986
         ],
         "y": [
          -0.2693694554476499,
          -0.3504896608957355
         ]
        },
        {
         "hoverinfo": "text",
         "line": {
          "color": "rgba(131,0,124,0.8)",
          "width": 2
         },
         "mode": "lines",
         "text": [
          "Sully — Hanjing: 0.31"
         ],
         "type": "scatter",
         "x": [
          0.19687949553048523,
          0.07277029765116749
         ],
         "y": [
          -0.2693694554476499,
          -0.41796965179805623
         ]
        },
        {
         "hoverinfo": "text",
         "line": {
          "color": "rgba(86,0,169,0.8)",
          "width": 2
         },
         "mode": "lines",
         "text": [
          "Sully — Francis: 0.38"
         ],
         "type": "scatter",
         "x": [
          0.19687949553048523,
          -0.07579203153190024
         ],
         "y": [
          -0.2693694554476499,
          -0.27421000624791814
         ]
        },
        {
         "hoverinfo": "text",
         "line": {
          "color": "rgba(109,0,146,0.8)",
          "width": 2
         },
         "mode": "lines",
         "text": [
          "Sully — Benjamin: 0.35"
         ],
         "type": "scatter",
         "x": [
          0.19687949553048523,
          -0.006096183926448528
         ],
         "y": [
          -0.2693694554476499,
          -0.12853753943049417
         ]
        },
        {
         "hoverinfo": "text",
         "line": {
          "color": "rgba(120,0,135,0.8)",
          "width": 2
         },
         "mode": "lines",
         "text": [
          "Sully — Aihan: 0.33"
         ],
         "type": "scatter",
         "x": [
          0.19687949553048523,
          0.04660251077880218
         ],
         "y": [
          -0.2693694554476499,
          -0.24764861049675485
         ]
        },
        {
         "hoverinfo": "text",
         "line": {
          "color": "rgba(150,0,105,0.8)",
          "width": 2
         },
         "mode": "lines",
         "text": [
          "Victoria — Blanton: 0.28"
         ],
         "type": "scatter",
         "x": [
          -0.03933258829839197,
          0.14719510739016986
         ],
         "y": [
          -0.3855166435766241,
          -0.3504896608957355
         ]
        },
        {
         "hoverinfo": "text",
         "line": {
          "color": "rgba(117,0,138,0.8)",
          "width": 2
         },
         "mode": "lines",
         "text": [
          "Victoria — Hanjing: 0.33"
         ],
         "type": "scatter",
         "x": [
          -0.03933258829839197,
          0.07277029765116749
         ],
         "y": [
          -0.3855166435766241,
          -0.41796965179805623
         ]
        },
        {
         "hoverinfo": "text",
         "line": {
          "color": "rgba(76,0,179,0.8)",
          "width": 2
         },
         "mode": "lines",
         "text": [
          "Victoria — Francis: 0.40"
         ],
         "type": "scatter",
         "x": [
          -0.03933258829839197,
          -0.07579203153190024
         ],
         "y": [
          -0.3855166435766241,
          -0.27421000624791814
         ]
        },
        {
         "hoverinfo": "text",
         "line": {
          "color": "rgba(133,0,122,0.8)",
          "width": 2
         },
         "mode": "lines",
         "text": [
          "Victoria — Benjamin: 0.31"
         ],
         "type": "scatter",
         "x": [
          -0.03933258829839197,
          -0.006096183926448528
         ],
         "y": [
          -0.3855166435766241,
          -0.12853753943049417
         ]
        },
        {
         "hoverinfo": "text",
         "line": {
          "color": "rgba(165,0,90,0.8)",
          "width": 2
         },
         "mode": "lines",
         "text": [
          "Victoria — Aihan: 0.26"
         ],
         "type": "scatter",
         "x": [
          -0.03933258829839197,
          0.04660251077880218
         ],
         "y": [
          -0.3855166435766241,
          -0.24764861049675485
         ]
        },
        {
         "hoverinfo": "text",
         "line": {
          "color": "rgba(255,0,0,0.8)",
          "width": 2
         },
         "mode": "lines",
         "text": [
          "Erin — Hailey: 0.13"
         ],
         "type": "scatter",
         "x": [
          -0.2694609917368495,
          -0.012141607412109713
         ],
         "y": [
          0.8321715804391024,
          1
         ]
        },
        {
         "hoverinfo": "text",
         "line": {
          "color": "rgba(244,0,11,0.8)",
          "width": 2
         },
         "mode": "lines",
         "text": [
          "Erin — Mike: 0.14"
         ],
         "type": "scatter",
         "x": [
          -0.2694609917368495,
          -0.2026988426704701
         ],
         "y": [
          0.8321715804391024,
          0.4111543150239045
         ]
        },
        {
         "hoverinfo": "text",
         "line": {
          "color": "rgba(247,0,8,0.8)",
          "width": 2
         },
         "mode": "lines",
         "text": [
          "Mike — Benjamin: 0.14"
         ],
         "type": "scatter",
         "x": [
          -0.2026988426704701,
          -0.006096183926448528
         ],
         "y": [
          0.4111543150239045,
          -0.12853753943049417
         ]
        },
        {
         "hoverinfo": "text",
         "line": {
          "color": "rgba(173,0,82,0.8)",
          "width": 2
         },
         "mode": "lines",
         "text": [
          "Blanton — Hanjing: 0.25"
         ],
         "type": "scatter",
         "x": [
          0.14719510739016986,
          0.07277029765116749
         ],
         "y": [
          -0.3504896608957355,
          -0.41796965179805623
         ]
        },
        {
         "hoverinfo": "text",
         "line": {
          "color": "rgba(119,0,136,0.8)",
          "width": 2
         },
         "mode": "lines",
         "text": [
          "Blanton — Francis: 0.33"
         ],
         "type": "scatter",
         "x": [
          0.14719510739016986,
          -0.07579203153190024
         ],
         "y": [
          -0.3504896608957355,
          -0.27421000624791814
         ]
        },
        {
         "hoverinfo": "text",
         "line": {
          "color": "rgba(48,0,207,0.8)",
          "width": 2
         },
         "mode": "lines",
         "text": [
          "Blanton — Benjamin: 0.44"
         ],
         "type": "scatter",
         "x": [
          0.14719510739016986,
          -0.006096183926448528
         ],
         "y": [
          -0.3504896608957355,
          -0.12853753943049417
         ]
        },
        {
         "hoverinfo": "text",
         "line": {
          "color": "rgba(132,0,123,0.8)",
          "width": 2
         },
         "mode": "lines",
         "text": [
          "Blanton — Aihan: 0.31"
         ],
         "type": "scatter",
         "x": [
          0.14719510739016986,
          0.04660251077880218
         ],
         "y": [
          -0.3504896608957355,
          -0.24764861049675485
         ]
        },
        {
         "hoverinfo": "text",
         "line": {
          "color": "rgba(166,0,89,0.8)",
          "width": 2
         },
         "mode": "lines",
         "text": [
          "Hanjing — Francis: 0.26"
         ],
         "type": "scatter",
         "x": [
          0.07277029765116749,
          -0.07579203153190024
         ],
         "y": [
          -0.41796965179805623,
          -0.27421000624791814
         ]
        },
        {
         "hoverinfo": "text",
         "line": {
          "color": "rgba(127,0,128,0.8)",
          "width": 2
         },
         "mode": "lines",
         "text": [
          "Hanjing — Benjamin: 0.32"
         ],
         "type": "scatter",
         "x": [
          0.07277029765116749,
          -0.006096183926448528
         ],
         "y": [
          -0.41796965179805623,
          -0.12853753943049417
         ]
        },
        {
         "hoverinfo": "text",
         "line": {
          "color": "rgba(67,0,188,0.8)",
          "width": 2
         },
         "mode": "lines",
         "text": [
          "Hanjing — Aihan: 0.41"
         ],
         "type": "scatter",
         "x": [
          0.07277029765116749,
          0.04660251077880218
         ],
         "y": [
          -0.41796965179805623,
          -0.24764861049675485
         ]
        },
        {
         "hoverinfo": "text",
         "line": {
          "color": "rgba(57,0,198,0.8)",
          "width": 2
         },
         "mode": "lines",
         "text": [
          "Francis — Benjamin: 0.42"
         ],
         "type": "scatter",
         "x": [
          -0.07579203153190024,
          -0.006096183926448528
         ],
         "y": [
          -0.27421000624791814,
          -0.12853753943049417
         ]
        },
        {
         "hoverinfo": "text",
         "line": {
          "color": "rgba(199,0,56,0.8)",
          "width": 2
         },
         "mode": "lines",
         "text": [
          "Francis — Aihan: 0.21"
         ],
         "type": "scatter",
         "x": [
          -0.07579203153190024,
          0.04660251077880218
         ],
         "y": [
          -0.27421000624791814,
          -0.24764861049675485
         ]
        },
        {
         "hoverinfo": "text",
         "line": {
          "color": "rgba(1,0,254,0.8)",
          "width": 2
         },
         "mode": "lines",
         "text": [
          "Benjamin — Aihan: 0.51"
         ],
         "type": "scatter",
         "x": [
          -0.006096183926448528,
          0.04660251077880218
         ],
         "y": [
          -0.12853753943049417,
          -0.24764861049675485
         ]
        },
        {
         "hoverinfo": "text",
         "marker": {
          "color": "lightblue",
          "line": {
           "width": 2
          },
          "size": 12
         },
         "mode": "markers+text",
         "text": [
          "Arya",
          "Sully",
          "Victoria",
          "Erin",
          "Hailey",
          "Mike",
          "Blanton",
          "Hanjing",
          "Francis",
          "Benjamin",
          "Aihan"
         ],
         "textposition": "top center",
         "type": "scatter",
         "x": [
          0.14207483422554526,
          0.19687949553048523,
          -0.03933258829839197,
          -0.2694609917368495,
          -0.012141607412109713,
          -0.2026988426704701,
          0.14719510739016986,
          0.07277029765116749,
          -0.07579203153190024,
          -0.006096183926448528,
          0.04660251077880218
         ],
         "y": [
          -0.16958432756977457,
          -0.2693694554476499,
          -0.3855166435766241,
          0.8321715804391024,
          1,
          0.4111543150239045,
          -0.3504896608957355,
          -0.41796965179805623,
          -0.27421000624791814,
          -0.12853753943049417,
          -0.24764861049675485
         ]
        }
       ],
       "layout": {
        "hovermode": "closest",
        "margin": {
         "b": 0,
         "l": 0,
         "r": 0,
         "t": 40
        },
        "showlegend": false,
        "template": {
         "data": {
          "bar": [
           {
            "error_x": {
             "color": "#2a3f5f"
            },
            "error_y": {
             "color": "#2a3f5f"
            },
            "marker": {
             "line": {
              "color": "#E5ECF6",
              "width": 0.5
             },
             "pattern": {
              "fillmode": "overlay",
              "size": 10,
              "solidity": 0.2
             }
            },
            "type": "bar"
           }
          ],
          "barpolar": [
           {
            "marker": {
             "line": {
              "color": "#E5ECF6",
              "width": 0.5
             },
             "pattern": {
              "fillmode": "overlay",
              "size": 10,
              "solidity": 0.2
             }
            },
            "type": "barpolar"
           }
          ],
          "carpet": [
           {
            "aaxis": {
             "endlinecolor": "#2a3f5f",
             "gridcolor": "white",
             "linecolor": "white",
             "minorgridcolor": "white",
             "startlinecolor": "#2a3f5f"
            },
            "baxis": {
             "endlinecolor": "#2a3f5f",
             "gridcolor": "white",
             "linecolor": "white",
             "minorgridcolor": "white",
             "startlinecolor": "#2a3f5f"
            },
            "type": "carpet"
           }
          ],
          "choropleth": [
           {
            "colorbar": {
             "outlinewidth": 0,
             "ticks": ""
            },
            "type": "choropleth"
           }
          ],
          "contour": [
           {
            "colorbar": {
             "outlinewidth": 0,
             "ticks": ""
            },
            "colorscale": [
             [
              0,
              "#0d0887"
             ],
             [
              0.1111111111111111,
              "#46039f"
             ],
             [
              0.2222222222222222,
              "#7201a8"
             ],
             [
              0.3333333333333333,
              "#9c179e"
             ],
             [
              0.4444444444444444,
              "#bd3786"
             ],
             [
              0.5555555555555556,
              "#d8576b"
             ],
             [
              0.6666666666666666,
              "#ed7953"
             ],
             [
              0.7777777777777778,
              "#fb9f3a"
             ],
             [
              0.8888888888888888,
              "#fdca26"
             ],
             [
              1,
              "#f0f921"
             ]
            ],
            "type": "contour"
           }
          ],
          "contourcarpet": [
           {
            "colorbar": {
             "outlinewidth": 0,
             "ticks": ""
            },
            "type": "contourcarpet"
           }
          ],
          "heatmap": [
           {
            "colorbar": {
             "outlinewidth": 0,
             "ticks": ""
            },
            "colorscale": [
             [
              0,
              "#0d0887"
             ],
             [
              0.1111111111111111,
              "#46039f"
             ],
             [
              0.2222222222222222,
              "#7201a8"
             ],
             [
              0.3333333333333333,
              "#9c179e"
             ],
             [
              0.4444444444444444,
              "#bd3786"
             ],
             [
              0.5555555555555556,
              "#d8576b"
             ],
             [
              0.6666666666666666,
              "#ed7953"
             ],
             [
              0.7777777777777778,
              "#fb9f3a"
             ],
             [
              0.8888888888888888,
              "#fdca26"
             ],
             [
              1,
              "#f0f921"
             ]
            ],
            "type": "heatmap"
           }
          ],
          "histogram": [
           {
            "marker": {
             "pattern": {
              "fillmode": "overlay",
              "size": 10,
              "solidity": 0.2
             }
            },
            "type": "histogram"
           }
          ],
          "histogram2d": [
           {
            "colorbar": {
             "outlinewidth": 0,
             "ticks": ""
            },
            "colorscale": [
             [
              0,
              "#0d0887"
             ],
             [
              0.1111111111111111,
              "#46039f"
             ],
             [
              0.2222222222222222,
              "#7201a8"
             ],
             [
              0.3333333333333333,
              "#9c179e"
             ],
             [
              0.4444444444444444,
              "#bd3786"
             ],
             [
              0.5555555555555556,
              "#d8576b"
             ],
             [
              0.6666666666666666,
              "#ed7953"
             ],
             [
              0.7777777777777778,
              "#fb9f3a"
             ],
             [
              0.8888888888888888,
              "#fdca26"
             ],
             [
              1,
              "#f0f921"
             ]
            ],
            "type": "histogram2d"
           }
          ],
          "histogram2dcontour": [
           {
            "colorbar": {
             "outlinewidth": 0,
             "ticks": ""
            },
            "colorscale": [
             [
              0,
              "#0d0887"
             ],
             [
              0.1111111111111111,
              "#46039f"
             ],
             [
              0.2222222222222222,
              "#7201a8"
             ],
             [
              0.3333333333333333,
              "#9c179e"
             ],
             [
              0.4444444444444444,
              "#bd3786"
             ],
             [
              0.5555555555555556,
              "#d8576b"
             ],
             [
              0.6666666666666666,
              "#ed7953"
             ],
             [
              0.7777777777777778,
              "#fb9f3a"
             ],
             [
              0.8888888888888888,
              "#fdca26"
             ],
             [
              1,
              "#f0f921"
             ]
            ],
            "type": "histogram2dcontour"
           }
          ],
          "mesh3d": [
           {
            "colorbar": {
             "outlinewidth": 0,
             "ticks": ""
            },
            "type": "mesh3d"
           }
          ],
          "parcoords": [
           {
            "line": {
             "colorbar": {
              "outlinewidth": 0,
              "ticks": ""
             }
            },
            "type": "parcoords"
           }
          ],
          "pie": [
           {
            "automargin": true,
            "type": "pie"
           }
          ],
          "scatter": [
           {
            "fillpattern": {
             "fillmode": "overlay",
             "size": 10,
             "solidity": 0.2
            },
            "type": "scatter"
           }
          ],
          "scatter3d": [
           {
            "line": {
             "colorbar": {
              "outlinewidth": 0,
              "ticks": ""
             }
            },
            "marker": {
             "colorbar": {
              "outlinewidth": 0,
              "ticks": ""
             }
            },
            "type": "scatter3d"
           }
          ],
          "scattercarpet": [
           {
            "marker": {
             "colorbar": {
              "outlinewidth": 0,
              "ticks": ""
             }
            },
            "type": "scattercarpet"
           }
          ],
          "scattergeo": [
           {
            "marker": {
             "colorbar": {
              "outlinewidth": 0,
              "ticks": ""
             }
            },
            "type": "scattergeo"
           }
          ],
          "scattergl": [
           {
            "marker": {
             "colorbar": {
              "outlinewidth": 0,
              "ticks": ""
             }
            },
            "type": "scattergl"
           }
          ],
          "scattermap": [
           {
            "marker": {
             "colorbar": {
              "outlinewidth": 0,
              "ticks": ""
             }
            },
            "type": "scattermap"
           }
          ],
          "scattermapbox": [
           {
            "marker": {
             "colorbar": {
              "outlinewidth": 0,
              "ticks": ""
             }
            },
            "type": "scattermapbox"
           }
          ],
          "scatterpolar": [
           {
            "marker": {
             "colorbar": {
              "outlinewidth": 0,
              "ticks": ""
             }
            },
            "type": "scatterpolar"
           }
          ],
          "scatterpolargl": [
           {
            "marker": {
             "colorbar": {
              "outlinewidth": 0,
              "ticks": ""
             }
            },
            "type": "scatterpolargl"
           }
          ],
          "scatterternary": [
           {
            "marker": {
             "colorbar": {
              "outlinewidth": 0,
              "ticks": ""
             }
            },
            "type": "scatterternary"
           }
          ],
          "surface": [
           {
            "colorbar": {
             "outlinewidth": 0,
             "ticks": ""
            },
            "colorscale": [
             [
              0,
              "#0d0887"
             ],
             [
              0.1111111111111111,
              "#46039f"
             ],
             [
              0.2222222222222222,
              "#7201a8"
             ],
             [
              0.3333333333333333,
              "#9c179e"
             ],
             [
              0.4444444444444444,
              "#bd3786"
             ],
             [
              0.5555555555555556,
              "#d8576b"
             ],
             [
              0.6666666666666666,
              "#ed7953"
             ],
             [
              0.7777777777777778,
              "#fb9f3a"
             ],
             [
              0.8888888888888888,
              "#fdca26"
             ],
             [
              1,
              "#f0f921"
             ]
            ],
            "type": "surface"
           }
          ],
          "table": [
           {
            "cells": {
             "fill": {
              "color": "#EBF0F8"
             },
             "line": {
              "color": "white"
             }
            },
            "header": {
             "fill": {
              "color": "#C8D4E3"
             },
             "line": {
              "color": "white"
             }
            },
            "type": "table"
           }
          ]
         },
         "layout": {
          "annotationdefaults": {
           "arrowcolor": "#2a3f5f",
           "arrowhead": 0,
           "arrowwidth": 1
          },
          "autotypenumbers": "strict",
          "coloraxis": {
           "colorbar": {
            "outlinewidth": 0,
            "ticks": ""
           }
          },
          "colorscale": {
           "diverging": [
            [
             0,
             "#8e0152"
            ],
            [
             0.1,
             "#c51b7d"
            ],
            [
             0.2,
             "#de77ae"
            ],
            [
             0.3,
             "#f1b6da"
            ],
            [
             0.4,
             "#fde0ef"
            ],
            [
             0.5,
             "#f7f7f7"
            ],
            [
             0.6,
             "#e6f5d0"
            ],
            [
             0.7,
             "#b8e186"
            ],
            [
             0.8,
             "#7fbc41"
            ],
            [
             0.9,
             "#4d9221"
            ],
            [
             1,
             "#276419"
            ]
           ],
           "sequential": [
            [
             0,
             "#0d0887"
            ],
            [
             0.1111111111111111,
             "#46039f"
            ],
            [
             0.2222222222222222,
             "#7201a8"
            ],
            [
             0.3333333333333333,
             "#9c179e"
            ],
            [
             0.4444444444444444,
             "#bd3786"
            ],
            [
             0.5555555555555556,
             "#d8576b"
            ],
            [
             0.6666666666666666,
             "#ed7953"
            ],
            [
             0.7777777777777778,
             "#fb9f3a"
            ],
            [
             0.8888888888888888,
             "#fdca26"
            ],
            [
             1,
             "#f0f921"
            ]
           ],
           "sequentialminus": [
            [
             0,
             "#0d0887"
            ],
            [
             0.1111111111111111,
             "#46039f"
            ],
            [
             0.2222222222222222,
             "#7201a8"
            ],
            [
             0.3333333333333333,
             "#9c179e"
            ],
            [
             0.4444444444444444,
             "#bd3786"
            ],
            [
             0.5555555555555556,
             "#d8576b"
            ],
            [
             0.6666666666666666,
             "#ed7953"
            ],
            [
             0.7777777777777778,
             "#fb9f3a"
            ],
            [
             0.8888888888888888,
             "#fdca26"
            ],
            [
             1,
             "#f0f921"
            ]
           ]
          },
          "colorway": [
           "#636efa",
           "#EF553B",
           "#00cc96",
           "#ab63fa",
           "#FFA15A",
           "#19d3f3",
           "#FF6692",
           "#B6E880",
           "#FF97FF",
           "#FECB52"
          ],
          "font": {
           "color": "#2a3f5f"
          },
          "geo": {
           "bgcolor": "white",
           "lakecolor": "white",
           "landcolor": "#E5ECF6",
           "showlakes": true,
           "showland": true,
           "subunitcolor": "white"
          },
          "hoverlabel": {
           "align": "left"
          },
          "hovermode": "closest",
          "mapbox": {
           "style": "light"
          },
          "paper_bgcolor": "white",
          "plot_bgcolor": "#E5ECF6",
          "polar": {
           "angularaxis": {
            "gridcolor": "white",
            "linecolor": "white",
            "ticks": ""
           },
           "bgcolor": "#E5ECF6",
           "radialaxis": {
            "gridcolor": "white",
            "linecolor": "white",
            "ticks": ""
           }
          },
          "scene": {
           "xaxis": {
            "backgroundcolor": "#E5ECF6",
            "gridcolor": "white",
            "gridwidth": 2,
            "linecolor": "white",
            "showbackground": true,
            "ticks": "",
            "zerolinecolor": "white"
           },
           "yaxis": {
            "backgroundcolor": "#E5ECF6",
            "gridcolor": "white",
            "gridwidth": 2,
            "linecolor": "white",
            "showbackground": true,
            "ticks": "",
            "zerolinecolor": "white"
           },
           "zaxis": {
            "backgroundcolor": "#E5ECF6",
            "gridcolor": "white",
            "gridwidth": 2,
            "linecolor": "white",
            "showbackground": true,
            "ticks": "",
            "zerolinecolor": "white"
           }
          },
          "shapedefaults": {
           "line": {
            "color": "#2a3f5f"
           }
          },
          "ternary": {
           "aaxis": {
            "gridcolor": "white",
            "linecolor": "white",
            "ticks": ""
           },
           "baxis": {
            "gridcolor": "white",
            "linecolor": "white",
            "ticks": ""
           },
           "bgcolor": "#E5ECF6",
           "caxis": {
            "gridcolor": "white",
            "linecolor": "white",
            "ticks": ""
           }
          },
          "title": {
           "x": 0.05
          },
          "xaxis": {
           "automargin": true,
           "gridcolor": "white",
           "linecolor": "white",
           "ticks": "",
           "title": {
            "standoff": 15
           },
           "zerolinecolor": "white",
           "zerolinewidth": 2
          },
          "yaxis": {
           "automargin": true,
           "gridcolor": "white",
           "linecolor": "white",
           "ticks": "",
           "title": {
            "standoff": 15
           },
           "zerolinecolor": "white",
           "zerolinewidth": 2
          }
         }
        },
        "title": {
         "text": "Name Similarity Graph (Edges Colored by Weight)"
        },
        "xaxis": {
         "showgrid": false,
         "showticklabels": false,
         "zeroline": false
        },
        "yaxis": {
         "showgrid": false,
         "showticklabels": false,
         "zeroline": false
        }
       }
      }
     },
     "metadata": {},
     "output_type": "display_data"
    }
   ],
   "source": [
    "import networkx as nx\n",
    "import plotly.graph_objects as go\n",
    "import numpy as np\n",
    "\n",
    "def plot_similarity_graph(names, similarity_matrix, threshold=0.5):\n",
    "    G = nx.Graph()\n",
    "\n",
    "    # Add nodes\n",
    "    for name in names:\n",
    "        G.add_node(name)\n",
    "\n",
    "    # Add edges with weights\n",
    "    for i in range(len(names)):\n",
    "        for j in range(i + 1, len(names)):\n",
    "            sim = similarity_matrix[i, j]\n",
    "            if sim >= threshold:\n",
    "                G.add_edge(names[i], names[j], weight=sim)\n",
    "\n",
    "    pos = nx.spring_layout(G, seed=42)\n",
    "\n",
    "    # Prepare edge coordinates and weights\n",
    "    edge_x = []\n",
    "    edge_y = []\n",
    "    edge_weights = []\n",
    "\n",
    "    for u, v, d in G.edges(data=True):\n",
    "        x0, y0 = pos[u]\n",
    "        x1, y1 = pos[v]\n",
    "        edge_x += [x0, x1, None]\n",
    "        edge_y += [y0, y1, None]\n",
    "        edge_weights.append(d['weight'])\n",
    "\n",
    "    # Create edge trace with color scale\n",
    "    edge_trace = go.Scatter(\n",
    "        x=edge_x,\n",
    "        y=edge_y,\n",
    "        mode='lines',\n",
    "        line=dict(width=2, color=edge_weights, colorscale='Viridis', colorbar=dict(title='Weight'), cmin=min(edge_weights), cmax=max(edge_weights)),\n",
    "        hoverinfo='none'\n",
    "    )\n",
    "\n",
    "    # Prepare node positions\n",
    "    node_x = []\n",
    "    node_y = []\n",
    "    for node in G.nodes():\n",
    "        x, y = pos[node]\n",
    "        node_x.append(x)\n",
    "        node_y.append(y)\n",
    "\n",
    "    node_trace = go.Scatter(\n",
    "        x=node_x,\n",
    "        y=node_y,\n",
    "        mode='markers+text',\n",
    "        text=list(G.nodes()),\n",
    "        textposition=\"top center\",\n",
    "        hoverinfo='text',\n",
    "        marker=dict(size=12, color='lightblue', line_width=2)\n",
    "    )\n",
    "\n",
    "    fig = go.Figure(data=[edge_trace, node_trace],\n",
    "                    layout=go.Layout(\n",
    "                        title='Name Similarity Graph (Edges Colored by Weight)',\n",
    "                        showlegend=False,\n",
    "                        hovermode='closest',\n",
    "                        margin=dict(b=0, l=0, r=0, t=40),\n",
    "                        xaxis=dict(showgrid=False, zeroline=False, showticklabels=False),\n",
    "                        yaxis=dict(showgrid=False, zeroline=False, showticklabels=False)\n",
    "                    ))\n",
    "    fig.show()\n",
    "\n",
    "\n",
    "# Example usage\n",
    "names = [\"Alice\", \"Bob\", \"Charlie\", \"David\"]\n",
    "similarity_matrix = np.array([\n",
    "    [1.0, 0.8, 0.3, 0.6],\n",
    "    [0.8, 1.0, 0.4, 0.5],\n",
    "    [0.3, 0.4, 1.0, 0.7],\n",
    "    [0.6, 0.5, 0.7, 1.0]\n",
    "])\n",
    "\n",
    "plot_similarity_graph(names, similarity_matrix, threshold=0.5)\n"
   ]
  },
  {
   "cell_type": "code",
   "execution_count": null,
   "id": "6436fa59",
   "metadata": {},
   "outputs": [],
   "source": [
    "# Make name vector, semantic and sentimnet arrays\n",
    "names = np.expand_dims(np.array(list(embeddings.keys())), 1)\n",
    "\n",
    "sentiments = np.array([embeddings[key]['sentiment'] for key in embeddings.keys()])\n",
    "semantics = np.array([embeddings[key]['semantic'] for key in embeddings.keys()])\n",
    "\n",
    "# Save the embeddings to a csv\n",
    "display(names.shape)\n",
    "\n",
    "# Concatenate the arrays and create a DataFrame\n",
    "embeddings_df = np.concatenate((sentiments, semantics), axis=1)\n",
    "embeddings_df = pd.DataFrame(embeddings_df, index=names.flatten())\n",
    "\n",
    "# Write the DataFrame to a CSV file\n",
    "embeddings_df.to_csv('data/embeddings.csv', header=False)"
   ]
  },
  {
   "cell_type": "code",
   "execution_count": null,
   "id": "133c1e97",
   "metadata": {},
   "outputs": [],
   "source": [
    "# Use KNN to cluster names\n",
    "from sklearn.neighbors import NearestNeighbors\n",
    "\n",
    "knn = NearestNeighbors(n_neighbors=6)\n",
    "knn.fit(embeddings_df)\n",
    "\n",
    "# Find the nearest neighbors for the target name\n",
    "distances, indices = knn.kneighbors(embeddings_df.loc[target_name].values.reshape(1, -1))\n",
    "\n",
    "# Print the nearest neighbors not including the target name\n",
    "print(f\"\\nNearest neighbors for {target_name}:\")\n",
    "for i, index in enumerate(indices[0]):\n",
    "    neighbor_name = embeddings_df.index[index]\n",
    "    distance = distances[0][i]\n",
    "    if neighbor_name == target_name:\n",
    "        continue  # Skip the target name itself\n",
    "    print(f\"{i}. {neighbor_name} (distance: {distance:.4f})\")\n",
    "\n",
    "    "
   ]
  }
 ],
 "metadata": {
  "kernelspec": {
   "display_name": "env",
   "language": "python",
   "name": "python3"
  },
  "language_info": {
   "codemirror_mode": {
    "name": "ipython",
    "version": 3
   },
   "file_extension": ".py",
   "mimetype": "text/x-python",
   "name": "python",
   "nbconvert_exporter": "python",
   "pygments_lexer": "ipython3",
   "version": "3.12.2"
  }
 },
 "nbformat": 4,
 "nbformat_minor": 5
}
