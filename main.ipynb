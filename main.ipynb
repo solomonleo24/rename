{
 "cells": [
  {
   "cell_type": "code",
   "execution_count": 65,
   "id": "eabd51c5",
   "metadata": {},
   "outputs": [],
   "source": [
    "# Imports\n",
    "from scripts.processing import get_embeddings\n",
    "from scripts.comparison import find_similar_names\n",
    "from scripts.scraping import extract_texts\n",
    "import json\n",
    "import numpy as np\n",
    "import pandas as pd\n",
    "import networkx as nx\n",
    "import plotly.graph_objects as go\n",
    "\n",
    "dir = 's_names'"
   ]
  },
  {
   "cell_type": "code",
   "execution_count": 66,
   "id": "3e95d981",
   "metadata": {},
   "outputs": [
    {
     "name": "stdout",
     "output_type": "stream",
     "text": [
      "Processed Sophia\n",
      "Processed Sofia\n"
     ]
    },
    {
     "name": "stderr",
     "output_type": "stream",
     "text": [
      "Some characters could not be decoded, and were replaced with REPLACEMENT CHARACTER.\n"
     ]
    },
    {
     "name": "stdout",
     "output_type": "stream",
     "text": [
      "Processed Scarlett\n",
      "Error processing https://www.zhihu.com/people/stella-59-15-21: Article `download()` failed with 403 Client Error: Forbidden for url: https://www.zhihu.com/people/stella-59-15-21 on URL https://www.zhihu.com/people/stella-59-15-21\n",
      "Processed Stella\n",
      "Processed Sadie\n",
      "Processed Sienna\n",
      "Processed Summer\n",
      "Processed Skylar\n",
      "Processed Sloane\n",
      "Processed Serena\n",
      "Processed Selena\n",
      "Error processing https://www.familyeducation.com/baby-names/name-meaning/seraphina: Article `download()` failed with 403 Client Error: Forbidden for url: https://www.familyeducation.com/baby-names/name-meaning/seraphina on URL https://www.familyeducation.com/baby-names/name-meaning/seraphina\n",
      "Processed Seraphina\n",
      "Processed Solana\n",
      "Processed Soleil\n",
      "Processed Sasha\n",
      "Processed Serenity\n"
     ]
    },
    {
     "name": "stderr",
     "output_type": "stream",
     "text": [
      "Some characters could not be decoded, and were replaced with REPLACEMENT CHARACTER.\n"
     ]
    },
    {
     "name": "stdout",
     "output_type": "stream",
     "text": [
      "Processed Saffron\n",
      "Processed Sidra\n",
      "Processed Silvana\n",
      "Processed Story\n",
      "Processed Sonnet\n",
      "Error processing https://www.familyeducation.com/pregnancy/baby-names/girl-names-that-mean-storm: Article `download()` failed with 403 Client Error: Forbidden for url: https://www.familyeducation.com/pregnancy/baby-names/girl-names-that-mean-storm on URL https://www.familyeducation.com/pregnancy/baby-names/girl-names-that-mean-storm\n",
      "Processed Storm\n",
      "Processed Shayla\n",
      "Processed Shyla\n"
     ]
    },
    {
     "name": "stderr",
     "output_type": "stream",
     "text": [
      "Some characters could not be decoded, and were replaced with REPLACEMENT CHARACTER.\n"
     ]
    },
    {
     "name": "stdout",
     "output_type": "stream",
     "text": [
      "Processed Sansa\n"
     ]
    },
    {
     "name": "stderr",
     "output_type": "stream",
     "text": [
      "Some characters could not be decoded, and were replaced with REPLACEMENT CHARACTER.\n"
     ]
    },
    {
     "name": "stdout",
     "output_type": "stream",
     "text": [
      "Processed Sedona\n",
      "Processed Sunday\n",
      "Processed Santana\n",
      "Error processing https://www.names.org/n/saraya/about: Article `download()` failed with 403 Client Error: Forbidden for url: https://www.names.org/n/saraya/about on URL https://www.names.org/n/saraya/about\n"
     ]
    },
    {
     "name": "stderr",
     "output_type": "stream",
     "text": [
      "Some characters could not be decoded, and were replaced with REPLACEMENT CHARACTER.\n"
     ]
    },
    {
     "name": "stdout",
     "output_type": "stream",
     "text": [
      "Processed Saraya\n",
      "Processed Shasta\n",
      "Processed Summerlyn\n",
      "Processed Saint\n",
      "Processed Sol\n",
      "Processed Stephanie\n",
      "Processed Samantha\n",
      "Processed Sydney\n"
     ]
    },
    {
     "name": "stderr",
     "output_type": "stream",
     "text": [
      "Some characters could not be decoded, and were replaced with REPLACEMENT CHARACTER.\n"
     ]
    },
    {
     "name": "stdout",
     "output_type": "stream",
     "text": [
      "Processed Sierra\n"
     ]
    },
    {
     "name": "stderr",
     "output_type": "stream",
     "text": [
      "Some characters could not be decoded, and were replaced with REPLACEMENT CHARACTER.\n"
     ]
    },
    {
     "name": "stdout",
     "output_type": "stream",
     "text": [
      "Processed Suri\n"
     ]
    },
    {
     "name": "stderr",
     "output_type": "stream",
     "text": [
      "Some characters could not be decoded, and were replaced with REPLACEMENT CHARACTER.\n"
     ]
    },
    {
     "name": "stdout",
     "output_type": "stream",
     "text": [
      "Processed Selah\n",
      "Error processing https://www.familyeducation.com/baby-names/name-meaning/saylor: Article `download()` failed with 403 Client Error: Forbidden for url: https://www.familyeducation.com/baby-names/name-meaning/saylor on URL https://www.familyeducation.com/baby-names/name-meaning/saylor\n",
      "Processed Saylor\n",
      "Processed Soraya\n",
      "Processed Sabrina\n",
      "Processed Shiloh\n",
      "Processed Skyla\n",
      "Processed Samara\n",
      "Processed Samira\n",
      "Processed Shannon\n",
      "Processed Shea\n",
      "Processed Sheridan\n",
      "Processed Sandra\n",
      "Processed Saskia\n"
     ]
    },
    {
     "name": "stderr",
     "output_type": "stream",
     "text": [
      "Some characters could not be decoded, and were replaced with REPLACEMENT CHARACTER.\n"
     ]
    },
    {
     "name": "stdout",
     "output_type": "stream",
     "text": [
      "Processed Shoshanna\n"
     ]
    },
    {
     "name": "stderr",
     "output_type": "stream",
     "text": [
      "Some characters could not be decoded, and were replaced with REPLACEMENT CHARACTER.\n"
     ]
    },
    {
     "name": "stdout",
     "output_type": "stream",
     "text": [
      "Processed Solange\n",
      "Processed Saanvi\n",
      "Processed Sharvani\n"
     ]
    },
    {
     "name": "stderr",
     "output_type": "stream",
     "text": [
      "Some characters could not be decoded, and were replaced with REPLACEMENT CHARACTER.\n"
     ]
    },
    {
     "name": "stdout",
     "output_type": "stream",
     "text": [
      "Error processing https://www.boldsky.com/smriti-name-meaning-14500/: Article `download()` failed with 403 Client Error: Forbidden for url: https://www.boldsky.com/smriti-name-meaning-14500/ on URL https://www.boldsky.com/smriti-name-meaning-14500/\n",
      "Processed Smriti\n",
      "Processed Siddhi\n"
     ]
    },
    {
     "name": "stderr",
     "output_type": "stream",
     "text": [
      "Some characters could not be decoded, and were replaced with REPLACEMENT CHARACTER.\n"
     ]
    },
    {
     "name": "stdout",
     "output_type": "stream",
     "text": [
      "Error processing https://www.moonastro.com/babyname/baby+name+swara+meaning.aspx: Article `download()` failed with 404 Client Error: Not Found for url: https://www.moonastro.com/babyname/baby+name+swara+meaning.aspx on URL https://www.moonastro.com/babyname/baby+name+swara+meaning.aspx\n",
      "Processed Swara\n"
     ]
    },
    {
     "name": "stderr",
     "output_type": "stream",
     "text": [
      "Some characters could not be decoded, and were replaced with REPLACEMENT CHARACTER.\n"
     ]
    },
    {
     "name": "stdout",
     "output_type": "stream",
     "text": [
      "Error processing https://www.moonastro.com/babyname/baby+name+shravani+meaning.aspx: Article `download()` failed with 404 Client Error: Not Found for url: https://www.moonastro.com/babyname/baby+name+shravani+meaning.aspx on URL https://www.moonastro.com/babyname/baby+name+shravani+meaning.aspx\n",
      "Processed Shravani\n"
     ]
    },
    {
     "name": "stderr",
     "output_type": "stream",
     "text": [
      "Some characters could not be decoded, and were replaced with REPLACEMENT CHARACTER.\n"
     ]
    },
    {
     "name": "stdout",
     "output_type": "stream",
     "text": [
      "Processed Saumya\n",
      "Error processing https://www.names.org/n/suvetha/about: Article `download()` failed with 403 Client Error: Forbidden for url: https://www.names.org/n/suvetha/about on URL https://www.names.org/n/suvetha/about\n",
      "Processed Suvetha\n"
     ]
    },
    {
     "name": "stderr",
     "output_type": "stream",
     "text": [
      "Some characters could not be decoded, and were replaced with REPLACEMENT CHARACTER.\n"
     ]
    },
    {
     "name": "stdout",
     "output_type": "stream",
     "text": [
      "Processed Savitri\n",
      "Processed Sahana\n",
      "Processed Sarika\n",
      "Processed Shrishti\n"
     ]
    },
    {
     "name": "stderr",
     "output_type": "stream",
     "text": [
      "Some characters could not be decoded, and were replaced with REPLACEMENT CHARACTER.\n"
     ]
    },
    {
     "name": "stdout",
     "output_type": "stream",
     "text": [
      "Processed Sharanya\n",
      "Processed Sanskriti\n",
      "Error processing https://www.moonastro.com/babyname/baby+name+sumedha+meaning.aspx: Article `download()` failed with 404 Client Error: Not Found for url: https://www.moonastro.com/babyname/baby+name+sumedha+meaning.aspx on URL https://www.moonastro.com/babyname/baby+name+sumedha+meaning.aspx\n"
     ]
    },
    {
     "name": "stderr",
     "output_type": "stream",
     "text": [
      "Some characters could not be decoded, and were replaced with REPLACEMENT CHARACTER.\n"
     ]
    },
    {
     "name": "stdout",
     "output_type": "stream",
     "text": [
      "Processed Sumedha\n",
      "Processed Srinika\n"
     ]
    },
    {
     "name": "stderr",
     "output_type": "stream",
     "text": [
      "Some characters could not be decoded, and were replaced with REPLACEMENT CHARACTER.\n"
     ]
    },
    {
     "name": "stdout",
     "output_type": "stream",
     "text": [
      "Processed Sreya\n"
     ]
    },
    {
     "name": "stderr",
     "output_type": "stream",
     "text": [
      "Some characters could not be decoded, and were replaced with REPLACEMENT CHARACTER.\n"
     ]
    },
    {
     "name": "stdout",
     "output_type": "stream",
     "text": [
      "Processed Shreya\n"
     ]
    },
    {
     "name": "stderr",
     "output_type": "stream",
     "text": [
      "Some characters could not be decoded, and were replaced with REPLACEMENT CHARACTER.\n"
     ]
    },
    {
     "name": "stdout",
     "output_type": "stream",
     "text": [
      "Processed Shraddha\n",
      "Processed Suzanne\n",
      "Processed Suzette\n",
      "Processed Suzie\n",
      "Processed Suzy\n"
     ]
    },
    {
     "name": "stderr",
     "output_type": "stream",
     "text": [
      "Some characters could not be decoded, and were replaced with REPLACEMENT CHARACTER.\n"
     ]
    },
    {
     "name": "stdout",
     "output_type": "stream",
     "text": [
      "Processed Sunita\n",
      "Processed Sunniva\n",
      "Processed Susan\n",
      "Processed Susanna\n",
      "Processed Susanne\n",
      "Processed Susie\n"
     ]
    },
    {
     "name": "stderr",
     "output_type": "stream",
     "text": [
      "Some characters could not be decoded, and were replaced with REPLACEMENT CHARACTER.\n"
     ]
    },
    {
     "name": "stdout",
     "output_type": "stream",
     "text": [
      "Processed Suvi\n",
      "Processed Suman\n"
     ]
    }
   ],
   "source": [
    "# Make articles json\n",
    "articles = extract_texts(f'{dir}/names.txt')\n",
    "\n",
    "# Write articles to JSON file\n",
    "with open(f'{dir}/articles.json', 'w') as f:\n",
    "    json.dump(articles, f)"
   ]
  },
  {
   "cell_type": "code",
   "execution_count": 67,
   "id": "8e0fd304",
   "metadata": {},
   "outputs": [
    {
     "name": "stdout",
     "output_type": "stream",
     "text": [
      "Processed Sophia with 5 texts\n",
      "Processed Sofia with 4 texts\n",
      "Processed Scarlett with 2 texts\n",
      "Processed Stella with 1 texts\n",
      "Processed Sadie with 5 texts\n",
      "Processed Sienna with 5 texts\n",
      "Processed Summer with 4 texts\n",
      "Processed Skylar with 2 texts\n",
      "Processed Sloane with 5 texts\n",
      "Processed Serena with 5 texts\n",
      "Processed Selena with 5 texts\n",
      "Processed Seraphina with 3 texts\n",
      "Processed Solana with 5 texts\n",
      "Processed Soleil with 5 texts\n",
      "Processed Sasha with 4 texts\n",
      "Processed Serenity with 5 texts\n",
      "Processed Saffron with 4 texts\n",
      "Processed Sidra with 5 texts\n",
      "Processed Silvana with 4 texts\n",
      "Processed Story with 5 texts\n",
      "Processed Sonnet with 5 texts\n",
      "Processed Storm with 3 texts\n",
      "Processed Shayla with 5 texts\n",
      "Processed Shyla with 3 texts\n",
      "Processed Sansa with 3 texts\n",
      "Processed Sedona with 4 texts\n",
      "Processed Sunday with 3 texts\n",
      "Processed Santana with 3 texts\n",
      "Processed Saraya with 3 texts\n",
      "Processed Shasta with 5 texts\n",
      "Processed Summerlyn with 5 texts\n",
      "Processed Saint with 5 texts\n",
      "Processed Sol with 5 texts\n",
      "Processed Stephanie with 4 texts\n",
      "Processed Samantha with 5 texts\n",
      "Processed Sydney with 4 texts\n",
      "Processed Sierra with 4 texts\n",
      "Processed Suri with 4 texts\n",
      "Processed Selah with 3 texts\n",
      "Processed Saylor with 4 texts\n",
      "Processed Soraya with 4 texts\n",
      "Processed Sabrina with 5 texts\n",
      "Processed Shiloh with 5 texts\n",
      "Processed Skyla with 5 texts\n",
      "Processed Samara with 3 texts\n",
      "Processed Samira with 5 texts\n",
      "Processed Shannon with 5 texts\n",
      "Processed Shea with 4 texts\n",
      "Processed Sheridan with 5 texts\n",
      "Processed Sandra with 1 texts\n",
      "Processed Saskia with 0 texts\n",
      "Processed Shoshanna with 2 texts\n",
      "Processed Solange with 4 texts\n",
      "Processed Saanvi with 5 texts\n",
      "Processed Sharvani with 4 texts\n",
      "Processed Smriti with 2 texts\n",
      "Processed Siddhi with 4 texts\n",
      "Processed Swara with 1 texts\n",
      "Processed Shravani with 3 texts\n",
      "Processed Saumya with 3 texts\n",
      "Processed Suvetha with 4 texts\n",
      "Processed Savitri with 4 texts\n",
      "Processed Sahana with 4 texts\n",
      "Processed Sarika with 4 texts\n",
      "Processed Shrishti with 5 texts\n",
      "Processed Sharanya with 4 texts\n",
      "Processed Sanskriti with 5 texts\n",
      "Processed Sumedha with 3 texts\n",
      "Processed Srinika with 5 texts\n",
      "Processed Sreya with 4 texts\n",
      "Processed Shreya with 4 texts\n",
      "Processed Shraddha with 4 texts\n",
      "Processed Suzanne with 4 texts\n",
      "Processed Suzette with 0 texts\n",
      "Processed Suzie with 4 texts\n",
      "Processed Suzy with 4 texts\n",
      "Processed Sunita with 4 texts\n",
      "Processed Sunniva with 5 texts\n",
      "Processed Susan with 5 texts\n",
      "Processed Susanna with 5 texts\n",
      "Processed Susanne with 3 texts\n",
      "Processed Susie with 5 texts\n",
      "Processed Suvi with 3 texts\n",
      "Processed Suman with 4 texts\n"
     ]
    }
   ],
   "source": [
    "# Read articles json and make embeddings\n",
    "with open(f'{dir}/articles.json', 'r') as f:\n",
    "    articles = json.load(f)\n",
    "\n",
    "embeddings = get_embeddings(articles)"
   ]
  },
  {
   "cell_type": "code",
   "execution_count": 68,
   "id": "6d9fc046",
   "metadata": {},
   "outputs": [],
   "source": [
    "# Convert embeddings to dict of lists for semantic and sentiment\n",
    "for key in embeddings.keys():\n",
    "    embeddings[key] = {\n",
    "        'semantic': np.array(embeddings[key]['semantic']).tolist(),\n",
    "        'sentiment': np.array(embeddings[key]['sentiment']).tolist()\n",
    "    }\n",
    "\n",
    "# Write to json file\n",
    "with open(f'{dir}/embeddings.json', 'w') as f:\n",
    "    json.dump(embeddings, f, indent=4)"
   ]
  },
  {
   "cell_type": "code",
   "execution_count": 69,
   "id": "743e6542",
   "metadata": {},
   "outputs": [
    {
     "ename": "ValueError",
     "evalue": "Sully not found in embeddings.",
     "output_type": "error",
     "traceback": [
      "\u001b[31m---------------------------------------------------------------------------\u001b[39m",
      "\u001b[31mValueError\u001b[39m                                Traceback (most recent call last)",
      "\u001b[36mCell\u001b[39m\u001b[36m \u001b[39m\u001b[32mIn[69]\u001b[39m\u001b[32m, line 7\u001b[39m\n\u001b[32m      5\u001b[39m \u001b[38;5;66;03m# Find similar names\u001b[39;00m\n\u001b[32m      6\u001b[39m target_name = \u001b[33m\"\u001b[39m\u001b[33mSully\u001b[39m\u001b[33m\"\u001b[39m\n\u001b[32m----> \u001b[39m\u001b[32m7\u001b[39m similar_names = \u001b[43mfind_similar_names\u001b[49m\u001b[43m(\u001b[49m\u001b[43mtarget_name\u001b[49m\u001b[43m,\u001b[49m\u001b[43m \u001b[49m\u001b[43membeddings\u001b[49m\u001b[43m,\u001b[49m\u001b[43m \u001b[49m\u001b[43mtop_k\u001b[49m\u001b[43m=\u001b[49m\u001b[32;43m11\u001b[39;49m\u001b[43m \u001b[49m\u001b[43m,\u001b[49m\u001b[43m \u001b[49m\u001b[43mw\u001b[49m\u001b[43m=\u001b[49m\u001b[32;43m0.5\u001b[39;49m\u001b[43m)\u001b[49m\n\u001b[32m      9\u001b[39m \u001b[38;5;28mprint\u001b[39m(\u001b[33mf\u001b[39m\u001b[33m\"\u001b[39m\u001b[33mSimilar names to \u001b[39m\u001b[38;5;132;01m{\u001b[39;00mtarget_name\u001b[38;5;132;01m}\u001b[39;00m\u001b[33m:\u001b[39m\u001b[33m\"\u001b[39m)\n\u001b[32m     10\u001b[39m \u001b[38;5;28;01mfor\u001b[39;00m name, score \u001b[38;5;129;01min\u001b[39;00m similar_names:\n",
      "\u001b[36mFile \u001b[39m\u001b[32mc:\\Users\\sal21\\Documents\\rename\\scripts\\comparison.py:7\u001b[39m, in \u001b[36mfind_similar_names\u001b[39m\u001b[34m(target_name, embeddings_dict, top_k, w)\u001b[39m\n\u001b[32m      4\u001b[39m \u001b[38;5;28;01mdef\u001b[39;00m\u001b[38;5;250m \u001b[39m\u001b[34mfind_similar_names\u001b[39m(target_name, embeddings_dict, top_k=\u001b[32m5\u001b[39m, w=\u001b[32m0.5\u001b[39m):\n\u001b[32m      6\u001b[39m     \u001b[38;5;28;01mif\u001b[39;00m target_name \u001b[38;5;129;01mnot\u001b[39;00m \u001b[38;5;129;01min\u001b[39;00m embeddings_dict:\n\u001b[32m----> \u001b[39m\u001b[32m7\u001b[39m         \u001b[38;5;28;01mraise\u001b[39;00m \u001b[38;5;167;01mValueError\u001b[39;00m(\u001b[33mf\u001b[39m\u001b[33m\"\u001b[39m\u001b[38;5;132;01m{\u001b[39;00mtarget_name\u001b[38;5;132;01m}\u001b[39;00m\u001b[33m not found in embeddings.\u001b[39m\u001b[33m\"\u001b[39m)\n\u001b[32m      9\u001b[39m     target_emb_sem = np.array(embeddings_dict[target_name][\u001b[33m'\u001b[39m\u001b[33msemantic\u001b[39m\u001b[33m'\u001b[39m]).reshape(\u001b[32m1\u001b[39m, -\u001b[32m1\u001b[39m)\n\u001b[32m     10\u001b[39m     target_emb_sen = np.array(embeddings_dict[target_name][\u001b[33m'\u001b[39m\u001b[33msentiment\u001b[39m\u001b[33m'\u001b[39m]).reshape(\u001b[32m1\u001b[39m, -\u001b[32m1\u001b[39m)\n",
      "\u001b[31mValueError\u001b[39m: Sully not found in embeddings."
     ]
    }
   ],
   "source": [
    "# Read embeddings from JSON file\n",
    "with open(f'{dir}/embeddings.json', 'r') as f:\n",
    "    embeddings = json.load(f)\n",
    "\n",
    "# Find similar names\n",
    "target_name = \"Sully\"\n",
    "similar_names = find_similar_names(target_name, embeddings, top_k=11 , w=0.5)\n",
    "\n",
    "print(f\"Similar names to {target_name}:\")\n",
    "for name, score in similar_names:\n",
    "    print(f\"{name}: {score:.4f}\")"
   ]
  },
  {
   "cell_type": "code",
   "execution_count": null,
   "id": "61dcb015",
   "metadata": {},
   "outputs": [
    {
     "data": {
      "application/vnd.microsoft.datawrangler.viewer.v0+json": {
       "columns": [
        {
         "name": "index",
         "rawType": "object",
         "type": "string"
        },
        {
         "name": "Arya",
         "rawType": "object",
         "type": "unknown"
        },
        {
         "name": "Sully",
         "rawType": "object",
         "type": "unknown"
        },
        {
         "name": "Victoria",
         "rawType": "object",
         "type": "unknown"
        },
        {
         "name": "Erin",
         "rawType": "object",
         "type": "unknown"
        },
        {
         "name": "Hailey",
         "rawType": "object",
         "type": "unknown"
        },
        {
         "name": "Mike",
         "rawType": "object",
         "type": "unknown"
        },
        {
         "name": "Blanton",
         "rawType": "object",
         "type": "unknown"
        },
        {
         "name": "Hanjing",
         "rawType": "object",
         "type": "unknown"
        },
        {
         "name": "Francis",
         "rawType": "object",
         "type": "unknown"
        },
        {
         "name": "Benjamin",
         "rawType": "object",
         "type": "unknown"
        },
        {
         "name": "Aihan",
         "rawType": "object",
         "type": "unknown"
        }
       ],
       "ref": "e6086525-fcad-414c-8e7d-382d40c6f1a5",
       "rows": [
        [
         "Arya",
         "0",
         "0.27108648589777146",
         "0.3048952231935165",
         "0.0503930228542763",
         "0.14409267011583887",
         "0.023669000221546242",
         "0.3157114835721555",
         "0.3327355457327052",
         "0.18404930415056145",
         "0.345832438380884",
         "0.5108896210349072"
        ],
        [
         "Sully",
         "0.27108648589777146",
         "0",
         "0.2845486692969997",
         "0.05201459736902578",
         "0.0005153927289642812",
         "0.017736330782485474",
         "0.41316567172009805",
         "0.313282153907526",
         "0.38073922672605975",
         "0.345902153612592",
         "0.32931993413540567"
        ],
        [
         "Victoria",
         "0.3048952231935165",
         "0.2845486692969997",
         "0",
         "0.03668802253604525",
         "0.1067912376444765",
         "0.025678421255170517",
         "0.2839950689302627",
         "0.334845659031353",
         "0.3956302495838837",
         "0.30969583163676917",
         "0.2613044144122566"
        ],
        [
         "Erin",
         "0.0503930228542763",
         "0.05201459736902578",
         "0.03668802253604525",
         "0",
         "0.1259352786230328",
         "0.14307582569981653",
         "0.06618611180073711",
         "0.05391626124432802",
         "0.02099651535651436",
         "0.026254623384436772",
         "0.04652716682010514"
        ],
        [
         "Hailey",
         "0.14409267011583887",
         "0.0005153927289642812",
         "0.1067912376444765",
         "0.1259352786230328",
         "0",
         "0.10781164303560697",
         "0.06438330686850556",
         "0.07762858797029867",
         "0.007813320308741",
         "0.09279253352476358",
         "0.02537859279804608"
        ],
        [
         "Mike",
         "0.023669000221546242",
         "0.017736330782485474",
         "0.025678421255170517",
         "0.14307582569981653",
         "0.10781164303560697",
         "0",
         "0.032791267725525416",
         "0.07649193704996096",
         "0.05371005800964179",
         "0.13782015609868742",
         "0.014915579982274399"
        ],
        [
         "Blanton",
         "0.3157114835721555",
         "0.41316567172009805",
         "0.2839950689302627",
         "0.06618611180073711",
         "0.06438330686850556",
         "0.032791267725525416",
         "0",
         "0.24933429676819518",
         "0.3308170727294537",
         "0.43799611788716236",
         "0.3120844952130264"
        ],
        [
         "Hanjing",
         "0.3327355457327052",
         "0.313282153907526",
         "0.334845659031353",
         "0.05391626124432802",
         "0.07762858797029867",
         "0.07649193704996096",
         "0.24933429676819518",
         "0",
         "0.2610345930076525",
         "0.319648514830035",
         "0.4095736746963038"
        ],
        [
         "Francis",
         "0.18404930415056145",
         "0.38073922672605975",
         "0.3956302495838837",
         "0.02099651535651436",
         "0.007813320308741",
         "0.05371005800964179",
         "0.3308170727294537",
         "0.2610345930076525",
         "0",
         "0.42455063942160093",
         "0.21073860482476145"
        ],
        [
         "Benjamin",
         "0.345832438380884",
         "0.345902153612592",
         "0.30969583163676917",
         "0.026254623384436772",
         "0.09279253352476358",
         "0.13782015609868742",
         "0.43799611788716236",
         "0.319648514830035",
         "0.42455063942160093",
         "0",
         "0.5093327049527197"
        ],
        [
         "Aihan",
         "0.5108896210349072",
         "0.32931993413540567",
         "0.2613044144122566",
         "0.04652716682010514",
         "0.02537859279804608",
         "0.014915579982274399",
         "0.3120844952130264",
         "0.4095736746963038",
         "0.21073860482476145",
         "0.5093327049527197",
         "0"
        ]
       ],
       "shape": {
        "columns": 11,
        "rows": 11
       }
      },
      "text/html": [
       "<div>\n",
       "<style scoped>\n",
       "    .dataframe tbody tr th:only-of-type {\n",
       "        vertical-align: middle;\n",
       "    }\n",
       "\n",
       "    .dataframe tbody tr th {\n",
       "        vertical-align: top;\n",
       "    }\n",
       "\n",
       "    .dataframe thead th {\n",
       "        text-align: right;\n",
       "    }\n",
       "</style>\n",
       "<table border=\"1\" class=\"dataframe\">\n",
       "  <thead>\n",
       "    <tr style=\"text-align: right;\">\n",
       "      <th></th>\n",
       "      <th>Arya</th>\n",
       "      <th>Sully</th>\n",
       "      <th>Victoria</th>\n",
       "      <th>Erin</th>\n",
       "      <th>Hailey</th>\n",
       "      <th>Mike</th>\n",
       "      <th>Blanton</th>\n",
       "      <th>Hanjing</th>\n",
       "      <th>Francis</th>\n",
       "      <th>Benjamin</th>\n",
       "      <th>Aihan</th>\n",
       "    </tr>\n",
       "  </thead>\n",
       "  <tbody>\n",
       "    <tr>\n",
       "      <th>Arya</th>\n",
       "      <td>0</td>\n",
       "      <td>0.271086</td>\n",
       "      <td>0.304895</td>\n",
       "      <td>0.050393</td>\n",
       "      <td>0.144093</td>\n",
       "      <td>0.023669</td>\n",
       "      <td>0.315711</td>\n",
       "      <td>0.332736</td>\n",
       "      <td>0.184049</td>\n",
       "      <td>0.345832</td>\n",
       "      <td>0.51089</td>\n",
       "    </tr>\n",
       "    <tr>\n",
       "      <th>Sully</th>\n",
       "      <td>0.271086</td>\n",
       "      <td>0</td>\n",
       "      <td>0.284549</td>\n",
       "      <td>0.052015</td>\n",
       "      <td>0.000515</td>\n",
       "      <td>0.017736</td>\n",
       "      <td>0.413166</td>\n",
       "      <td>0.313282</td>\n",
       "      <td>0.380739</td>\n",
       "      <td>0.345902</td>\n",
       "      <td>0.32932</td>\n",
       "    </tr>\n",
       "    <tr>\n",
       "      <th>Victoria</th>\n",
       "      <td>0.304895</td>\n",
       "      <td>0.284549</td>\n",
       "      <td>0</td>\n",
       "      <td>0.036688</td>\n",
       "      <td>0.106791</td>\n",
       "      <td>0.025678</td>\n",
       "      <td>0.283995</td>\n",
       "      <td>0.334846</td>\n",
       "      <td>0.39563</td>\n",
       "      <td>0.309696</td>\n",
       "      <td>0.261304</td>\n",
       "    </tr>\n",
       "    <tr>\n",
       "      <th>Erin</th>\n",
       "      <td>0.050393</td>\n",
       "      <td>0.052015</td>\n",
       "      <td>0.036688</td>\n",
       "      <td>0</td>\n",
       "      <td>0.125935</td>\n",
       "      <td>0.143076</td>\n",
       "      <td>0.066186</td>\n",
       "      <td>0.053916</td>\n",
       "      <td>0.020997</td>\n",
       "      <td>0.026255</td>\n",
       "      <td>0.046527</td>\n",
       "    </tr>\n",
       "    <tr>\n",
       "      <th>Hailey</th>\n",
       "      <td>0.144093</td>\n",
       "      <td>0.000515</td>\n",
       "      <td>0.106791</td>\n",
       "      <td>0.125935</td>\n",
       "      <td>0</td>\n",
       "      <td>0.107812</td>\n",
       "      <td>0.064383</td>\n",
       "      <td>0.077629</td>\n",
       "      <td>0.007813</td>\n",
       "      <td>0.092793</td>\n",
       "      <td>0.025379</td>\n",
       "    </tr>\n",
       "    <tr>\n",
       "      <th>Mike</th>\n",
       "      <td>0.023669</td>\n",
       "      <td>0.017736</td>\n",
       "      <td>0.025678</td>\n",
       "      <td>0.143076</td>\n",
       "      <td>0.107812</td>\n",
       "      <td>0</td>\n",
       "      <td>0.032791</td>\n",
       "      <td>0.076492</td>\n",
       "      <td>0.05371</td>\n",
       "      <td>0.13782</td>\n",
       "      <td>0.014916</td>\n",
       "    </tr>\n",
       "    <tr>\n",
       "      <th>Blanton</th>\n",
       "      <td>0.315711</td>\n",
       "      <td>0.413166</td>\n",
       "      <td>0.283995</td>\n",
       "      <td>0.066186</td>\n",
       "      <td>0.064383</td>\n",
       "      <td>0.032791</td>\n",
       "      <td>0</td>\n",
       "      <td>0.249334</td>\n",
       "      <td>0.330817</td>\n",
       "      <td>0.437996</td>\n",
       "      <td>0.312084</td>\n",
       "    </tr>\n",
       "    <tr>\n",
       "      <th>Hanjing</th>\n",
       "      <td>0.332736</td>\n",
       "      <td>0.313282</td>\n",
       "      <td>0.334846</td>\n",
       "      <td>0.053916</td>\n",
       "      <td>0.077629</td>\n",
       "      <td>0.076492</td>\n",
       "      <td>0.249334</td>\n",
       "      <td>0</td>\n",
       "      <td>0.261035</td>\n",
       "      <td>0.319649</td>\n",
       "      <td>0.409574</td>\n",
       "    </tr>\n",
       "    <tr>\n",
       "      <th>Francis</th>\n",
       "      <td>0.184049</td>\n",
       "      <td>0.380739</td>\n",
       "      <td>0.39563</td>\n",
       "      <td>0.020997</td>\n",
       "      <td>0.007813</td>\n",
       "      <td>0.05371</td>\n",
       "      <td>0.330817</td>\n",
       "      <td>0.261035</td>\n",
       "      <td>0</td>\n",
       "      <td>0.424551</td>\n",
       "      <td>0.210739</td>\n",
       "    </tr>\n",
       "    <tr>\n",
       "      <th>Benjamin</th>\n",
       "      <td>0.345832</td>\n",
       "      <td>0.345902</td>\n",
       "      <td>0.309696</td>\n",
       "      <td>0.026255</td>\n",
       "      <td>0.092793</td>\n",
       "      <td>0.13782</td>\n",
       "      <td>0.437996</td>\n",
       "      <td>0.319649</td>\n",
       "      <td>0.424551</td>\n",
       "      <td>0</td>\n",
       "      <td>0.509333</td>\n",
       "    </tr>\n",
       "    <tr>\n",
       "      <th>Aihan</th>\n",
       "      <td>0.51089</td>\n",
       "      <td>0.32932</td>\n",
       "      <td>0.261304</td>\n",
       "      <td>0.046527</td>\n",
       "      <td>0.025379</td>\n",
       "      <td>0.014916</td>\n",
       "      <td>0.312084</td>\n",
       "      <td>0.409574</td>\n",
       "      <td>0.210739</td>\n",
       "      <td>0.509333</td>\n",
       "      <td>0</td>\n",
       "    </tr>\n",
       "  </tbody>\n",
       "</table>\n",
       "</div>"
      ],
      "text/plain": [
       "              Arya     Sully  Victoria      Erin    Hailey      Mike  \\\n",
       "Arya             0  0.271086  0.304895  0.050393  0.144093  0.023669   \n",
       "Sully     0.271086         0  0.284549  0.052015  0.000515  0.017736   \n",
       "Victoria  0.304895  0.284549         0  0.036688  0.106791  0.025678   \n",
       "Erin      0.050393  0.052015  0.036688         0  0.125935  0.143076   \n",
       "Hailey    0.144093  0.000515  0.106791  0.125935         0  0.107812   \n",
       "Mike      0.023669  0.017736  0.025678  0.143076  0.107812         0   \n",
       "Blanton   0.315711  0.413166  0.283995  0.066186  0.064383  0.032791   \n",
       "Hanjing   0.332736  0.313282  0.334846  0.053916  0.077629  0.076492   \n",
       "Francis   0.184049  0.380739   0.39563  0.020997  0.007813   0.05371   \n",
       "Benjamin  0.345832  0.345902  0.309696  0.026255  0.092793   0.13782   \n",
       "Aihan      0.51089   0.32932  0.261304  0.046527  0.025379  0.014916   \n",
       "\n",
       "           Blanton   Hanjing   Francis  Benjamin     Aihan  \n",
       "Arya      0.315711  0.332736  0.184049  0.345832   0.51089  \n",
       "Sully     0.413166  0.313282  0.380739  0.345902   0.32932  \n",
       "Victoria  0.283995  0.334846   0.39563  0.309696  0.261304  \n",
       "Erin      0.066186  0.053916  0.020997  0.026255  0.046527  \n",
       "Hailey    0.064383  0.077629  0.007813  0.092793  0.025379  \n",
       "Mike      0.032791  0.076492   0.05371   0.13782  0.014916  \n",
       "Blanton          0  0.249334  0.330817  0.437996  0.312084  \n",
       "Hanjing   0.249334         0  0.261035  0.319649  0.409574  \n",
       "Francis   0.330817  0.261035         0  0.424551  0.210739  \n",
       "Benjamin  0.437996  0.319649  0.424551         0  0.509333  \n",
       "Aihan     0.312084  0.409574  0.210739  0.509333         0  "
      ]
     },
     "metadata": {},
     "output_type": "display_data"
    }
   ],
   "source": [
    "# Calculate similarity matrix\n",
    "similarity_matrix = pd.DataFrame(index=embeddings.keys(), columns=embeddings.keys())\n",
    "for name1 in embeddings.keys():\n",
    "    for name2 in embeddings.keys():\n",
    "        if name1 != name2:\n",
    "            score = np.abs(np.dot(embeddings[name1]['semantic'], embeddings[name2]['semantic']))\n",
    "        else:\n",
    "            score = 0\n",
    "\n",
    "        similarity_matrix.loc[name1, name2] = score\n",
    "\n",
    "display(similarity_matrix)\n",
    "\n"
   ]
  },
  {
   "cell_type": "code",
   "execution_count": null,
   "id": "7868511e",
   "metadata": {},
   "outputs": [
    {
     "data": {
      "application/vnd.plotly.v1+json": {
       "config": {
        "plotlyServerURL": "https://plot.ly"
       },
       "data": [
        {
         "colorbar": {
          "title": {
           "text": "Similarity"
          }
         },
         "colorscale": [
          [
           0,
           "#440154"
          ],
          [
           0.1111111111111111,
           "#482878"
          ],
          [
           0.2222222222222222,
           "#3e4989"
          ],
          [
           0.3333333333333333,
           "#31688e"
          ],
          [
           0.4444444444444444,
           "#26828e"
          ],
          [
           0.5555555555555556,
           "#1f9e89"
          ],
          [
           0.6666666666666666,
           "#35b779"
          ],
          [
           0.7777777777777778,
           "#6ece58"
          ],
          [
           0.8888888888888888,
           "#b5de2b"
          ],
          [
           1,
           "#fde725"
          ]
         ],
         "hovertemplate": "Name 1: %{y}<br>Name 2: %{x}<br>Similarity: %{z:.2f}<extra></extra>",
         "type": "heatmap",
         "x": [
          "Arya",
          "Sully",
          "Victoria",
          "Erin",
          "Hailey",
          "Mike",
          "Blanton",
          "Hanjing",
          "Francis",
          "Benjamin",
          "Aihan"
         ],
         "y": [
          "Arya",
          "Sully",
          "Victoria",
          "Erin",
          "Hailey",
          "Mike",
          "Blanton",
          "Hanjing",
          "Francis",
          "Benjamin",
          "Aihan"
         ],
         "z": [
          [
           0,
           0.27108648589777146,
           0.3048952231935165,
           0.0503930228542763,
           0.14409267011583887,
           0.023669000221546242,
           0.3157114835721555,
           0.3327355457327052,
           0.18404930415056145,
           0.345832438380884,
           0.5108896210349072
          ],
          [
           0.27108648589777146,
           0,
           0.2845486692969997,
           0.05201459736902578,
           0.0005153927289642812,
           0.017736330782485474,
           0.41316567172009805,
           0.313282153907526,
           0.38073922672605975,
           0.345902153612592,
           0.32931993413540567
          ],
          [
           0.3048952231935165,
           0.2845486692969997,
           0,
           0.03668802253604525,
           0.1067912376444765,
           0.025678421255170517,
           0.2839950689302627,
           0.334845659031353,
           0.3956302495838837,
           0.30969583163676917,
           0.2613044144122566
          ],
          [
           0.0503930228542763,
           0.05201459736902578,
           0.03668802253604525,
           0,
           0.1259352786230328,
           0.14307582569981653,
           0.06618611180073711,
           0.05391626124432802,
           0.02099651535651436,
           0.026254623384436772,
           0.04652716682010514
          ],
          [
           0.14409267011583887,
           0.0005153927289642812,
           0.1067912376444765,
           0.1259352786230328,
           0,
           0.10781164303560697,
           0.06438330686850556,
           0.07762858797029867,
           0.007813320308741,
           0.09279253352476358,
           0.02537859279804608
          ],
          [
           0.023669000221546242,
           0.017736330782485474,
           0.025678421255170517,
           0.14307582569981653,
           0.10781164303560697,
           0,
           0.032791267725525416,
           0.07649193704996096,
           0.05371005800964179,
           0.13782015609868742,
           0.014915579982274399
          ],
          [
           0.3157114835721555,
           0.41316567172009805,
           0.2839950689302627,
           0.06618611180073711,
           0.06438330686850556,
           0.032791267725525416,
           0,
           0.24933429676819518,
           0.3308170727294537,
           0.43799611788716236,
           0.3120844952130264
          ],
          [
           0.3327355457327052,
           0.313282153907526,
           0.334845659031353,
           0.05391626124432802,
           0.07762858797029867,
           0.07649193704996096,
           0.24933429676819518,
           0,
           0.2610345930076525,
           0.319648514830035,
           0.4095736746963038
          ],
          [
           0.18404930415056145,
           0.38073922672605975,
           0.3956302495838837,
           0.02099651535651436,
           0.007813320308741,
           0.05371005800964179,
           0.3308170727294537,
           0.2610345930076525,
           0,
           0.42455063942160093,
           0.21073860482476145
          ],
          [
           0.345832438380884,
           0.345902153612592,
           0.30969583163676917,
           0.026254623384436772,
           0.09279253352476358,
           0.13782015609868742,
           0.43799611788716236,
           0.319648514830035,
           0.42455063942160093,
           0,
           0.5093327049527197
          ],
          [
           0.5108896210349072,
           0.32931993413540567,
           0.2613044144122566,
           0.04652716682010514,
           0.02537859279804608,
           0.014915579982274399,
           0.3120844952130264,
           0.4095736746963038,
           0.21073860482476145,
           0.5093327049527197,
           0
          ]
         ],
         "zmax": 1,
         "zmin": 0
        }
       ],
       "layout": {
        "template": {
         "data": {
          "bar": [
           {
            "error_x": {
             "color": "#2a3f5f"
            },
            "error_y": {
             "color": "#2a3f5f"
            },
            "marker": {
             "line": {
              "color": "#E5ECF6",
              "width": 0.5
             },
             "pattern": {
              "fillmode": "overlay",
              "size": 10,
              "solidity": 0.2
             }
            },
            "type": "bar"
           }
          ],
          "barpolar": [
           {
            "marker": {
             "line": {
              "color": "#E5ECF6",
              "width": 0.5
             },
             "pattern": {
              "fillmode": "overlay",
              "size": 10,
              "solidity": 0.2
             }
            },
            "type": "barpolar"
           }
          ],
          "carpet": [
           {
            "aaxis": {
             "endlinecolor": "#2a3f5f",
             "gridcolor": "white",
             "linecolor": "white",
             "minorgridcolor": "white",
             "startlinecolor": "#2a3f5f"
            },
            "baxis": {
             "endlinecolor": "#2a3f5f",
             "gridcolor": "white",
             "linecolor": "white",
             "minorgridcolor": "white",
             "startlinecolor": "#2a3f5f"
            },
            "type": "carpet"
           }
          ],
          "choropleth": [
           {
            "colorbar": {
             "outlinewidth": 0,
             "ticks": ""
            },
            "type": "choropleth"
           }
          ],
          "contour": [
           {
            "colorbar": {
             "outlinewidth": 0,
             "ticks": ""
            },
            "colorscale": [
             [
              0,
              "#0d0887"
             ],
             [
              0.1111111111111111,
              "#46039f"
             ],
             [
              0.2222222222222222,
              "#7201a8"
             ],
             [
              0.3333333333333333,
              "#9c179e"
             ],
             [
              0.4444444444444444,
              "#bd3786"
             ],
             [
              0.5555555555555556,
              "#d8576b"
             ],
             [
              0.6666666666666666,
              "#ed7953"
             ],
             [
              0.7777777777777778,
              "#fb9f3a"
             ],
             [
              0.8888888888888888,
              "#fdca26"
             ],
             [
              1,
              "#f0f921"
             ]
            ],
            "type": "contour"
           }
          ],
          "contourcarpet": [
           {
            "colorbar": {
             "outlinewidth": 0,
             "ticks": ""
            },
            "type": "contourcarpet"
           }
          ],
          "heatmap": [
           {
            "colorbar": {
             "outlinewidth": 0,
             "ticks": ""
            },
            "colorscale": [
             [
              0,
              "#0d0887"
             ],
             [
              0.1111111111111111,
              "#46039f"
             ],
             [
              0.2222222222222222,
              "#7201a8"
             ],
             [
              0.3333333333333333,
              "#9c179e"
             ],
             [
              0.4444444444444444,
              "#bd3786"
             ],
             [
              0.5555555555555556,
              "#d8576b"
             ],
             [
              0.6666666666666666,
              "#ed7953"
             ],
             [
              0.7777777777777778,
              "#fb9f3a"
             ],
             [
              0.8888888888888888,
              "#fdca26"
             ],
             [
              1,
              "#f0f921"
             ]
            ],
            "type": "heatmap"
           }
          ],
          "histogram": [
           {
            "marker": {
             "pattern": {
              "fillmode": "overlay",
              "size": 10,
              "solidity": 0.2
             }
            },
            "type": "histogram"
           }
          ],
          "histogram2d": [
           {
            "colorbar": {
             "outlinewidth": 0,
             "ticks": ""
            },
            "colorscale": [
             [
              0,
              "#0d0887"
             ],
             [
              0.1111111111111111,
              "#46039f"
             ],
             [
              0.2222222222222222,
              "#7201a8"
             ],
             [
              0.3333333333333333,
              "#9c179e"
             ],
             [
              0.4444444444444444,
              "#bd3786"
             ],
             [
              0.5555555555555556,
              "#d8576b"
             ],
             [
              0.6666666666666666,
              "#ed7953"
             ],
             [
              0.7777777777777778,
              "#fb9f3a"
             ],
             [
              0.8888888888888888,
              "#fdca26"
             ],
             [
              1,
              "#f0f921"
             ]
            ],
            "type": "histogram2d"
           }
          ],
          "histogram2dcontour": [
           {
            "colorbar": {
             "outlinewidth": 0,
             "ticks": ""
            },
            "colorscale": [
             [
              0,
              "#0d0887"
             ],
             [
              0.1111111111111111,
              "#46039f"
             ],
             [
              0.2222222222222222,
              "#7201a8"
             ],
             [
              0.3333333333333333,
              "#9c179e"
             ],
             [
              0.4444444444444444,
              "#bd3786"
             ],
             [
              0.5555555555555556,
              "#d8576b"
             ],
             [
              0.6666666666666666,
              "#ed7953"
             ],
             [
              0.7777777777777778,
              "#fb9f3a"
             ],
             [
              0.8888888888888888,
              "#fdca26"
             ],
             [
              1,
              "#f0f921"
             ]
            ],
            "type": "histogram2dcontour"
           }
          ],
          "mesh3d": [
           {
            "colorbar": {
             "outlinewidth": 0,
             "ticks": ""
            },
            "type": "mesh3d"
           }
          ],
          "parcoords": [
           {
            "line": {
             "colorbar": {
              "outlinewidth": 0,
              "ticks": ""
             }
            },
            "type": "parcoords"
           }
          ],
          "pie": [
           {
            "automargin": true,
            "type": "pie"
           }
          ],
          "scatter": [
           {
            "fillpattern": {
             "fillmode": "overlay",
             "size": 10,
             "solidity": 0.2
            },
            "type": "scatter"
           }
          ],
          "scatter3d": [
           {
            "line": {
             "colorbar": {
              "outlinewidth": 0,
              "ticks": ""
             }
            },
            "marker": {
             "colorbar": {
              "outlinewidth": 0,
              "ticks": ""
             }
            },
            "type": "scatter3d"
           }
          ],
          "scattercarpet": [
           {
            "marker": {
             "colorbar": {
              "outlinewidth": 0,
              "ticks": ""
             }
            },
            "type": "scattercarpet"
           }
          ],
          "scattergeo": [
           {
            "marker": {
             "colorbar": {
              "outlinewidth": 0,
              "ticks": ""
             }
            },
            "type": "scattergeo"
           }
          ],
          "scattergl": [
           {
            "marker": {
             "colorbar": {
              "outlinewidth": 0,
              "ticks": ""
             }
            },
            "type": "scattergl"
           }
          ],
          "scattermap": [
           {
            "marker": {
             "colorbar": {
              "outlinewidth": 0,
              "ticks": ""
             }
            },
            "type": "scattermap"
           }
          ],
          "scattermapbox": [
           {
            "marker": {
             "colorbar": {
              "outlinewidth": 0,
              "ticks": ""
             }
            },
            "type": "scattermapbox"
           }
          ],
          "scatterpolar": [
           {
            "marker": {
             "colorbar": {
              "outlinewidth": 0,
              "ticks": ""
             }
            },
            "type": "scatterpolar"
           }
          ],
          "scatterpolargl": [
           {
            "marker": {
             "colorbar": {
              "outlinewidth": 0,
              "ticks": ""
             }
            },
            "type": "scatterpolargl"
           }
          ],
          "scatterternary": [
           {
            "marker": {
             "colorbar": {
              "outlinewidth": 0,
              "ticks": ""
             }
            },
            "type": "scatterternary"
           }
          ],
          "surface": [
           {
            "colorbar": {
             "outlinewidth": 0,
             "ticks": ""
            },
            "colorscale": [
             [
              0,
              "#0d0887"
             ],
             [
              0.1111111111111111,
              "#46039f"
             ],
             [
              0.2222222222222222,
              "#7201a8"
             ],
             [
              0.3333333333333333,
              "#9c179e"
             ],
             [
              0.4444444444444444,
              "#bd3786"
             ],
             [
              0.5555555555555556,
              "#d8576b"
             ],
             [
              0.6666666666666666,
              "#ed7953"
             ],
             [
              0.7777777777777778,
              "#fb9f3a"
             ],
             [
              0.8888888888888888,
              "#fdca26"
             ],
             [
              1,
              "#f0f921"
             ]
            ],
            "type": "surface"
           }
          ],
          "table": [
           {
            "cells": {
             "fill": {
              "color": "#EBF0F8"
             },
             "line": {
              "color": "white"
             }
            },
            "header": {
             "fill": {
              "color": "#C8D4E3"
             },
             "line": {
              "color": "white"
             }
            },
            "type": "table"
           }
          ]
         },
         "layout": {
          "annotationdefaults": {
           "arrowcolor": "#2a3f5f",
           "arrowhead": 0,
           "arrowwidth": 1
          },
          "autotypenumbers": "strict",
          "coloraxis": {
           "colorbar": {
            "outlinewidth": 0,
            "ticks": ""
           }
          },
          "colorscale": {
           "diverging": [
            [
             0,
             "#8e0152"
            ],
            [
             0.1,
             "#c51b7d"
            ],
            [
             0.2,
             "#de77ae"
            ],
            [
             0.3,
             "#f1b6da"
            ],
            [
             0.4,
             "#fde0ef"
            ],
            [
             0.5,
             "#f7f7f7"
            ],
            [
             0.6,
             "#e6f5d0"
            ],
            [
             0.7,
             "#b8e186"
            ],
            [
             0.8,
             "#7fbc41"
            ],
            [
             0.9,
             "#4d9221"
            ],
            [
             1,
             "#276419"
            ]
           ],
           "sequential": [
            [
             0,
             "#0d0887"
            ],
            [
             0.1111111111111111,
             "#46039f"
            ],
            [
             0.2222222222222222,
             "#7201a8"
            ],
            [
             0.3333333333333333,
             "#9c179e"
            ],
            [
             0.4444444444444444,
             "#bd3786"
            ],
            [
             0.5555555555555556,
             "#d8576b"
            ],
            [
             0.6666666666666666,
             "#ed7953"
            ],
            [
             0.7777777777777778,
             "#fb9f3a"
            ],
            [
             0.8888888888888888,
             "#fdca26"
            ],
            [
             1,
             "#f0f921"
            ]
           ],
           "sequentialminus": [
            [
             0,
             "#0d0887"
            ],
            [
             0.1111111111111111,
             "#46039f"
            ],
            [
             0.2222222222222222,
             "#7201a8"
            ],
            [
             0.3333333333333333,
             "#9c179e"
            ],
            [
             0.4444444444444444,
             "#bd3786"
            ],
            [
             0.5555555555555556,
             "#d8576b"
            ],
            [
             0.6666666666666666,
             "#ed7953"
            ],
            [
             0.7777777777777778,
             "#fb9f3a"
            ],
            [
             0.8888888888888888,
             "#fdca26"
            ],
            [
             1,
             "#f0f921"
            ]
           ]
          },
          "colorway": [
           "#636efa",
           "#EF553B",
           "#00cc96",
           "#ab63fa",
           "#FFA15A",
           "#19d3f3",
           "#FF6692",
           "#B6E880",
           "#FF97FF",
           "#FECB52"
          ],
          "font": {
           "color": "#2a3f5f"
          },
          "geo": {
           "bgcolor": "white",
           "lakecolor": "white",
           "landcolor": "#E5ECF6",
           "showlakes": true,
           "showland": true,
           "subunitcolor": "white"
          },
          "hoverlabel": {
           "align": "left"
          },
          "hovermode": "closest",
          "mapbox": {
           "style": "light"
          },
          "paper_bgcolor": "white",
          "plot_bgcolor": "#E5ECF6",
          "polar": {
           "angularaxis": {
            "gridcolor": "white",
            "linecolor": "white",
            "ticks": ""
           },
           "bgcolor": "#E5ECF6",
           "radialaxis": {
            "gridcolor": "white",
            "linecolor": "white",
            "ticks": ""
           }
          },
          "scene": {
           "xaxis": {
            "backgroundcolor": "#E5ECF6",
            "gridcolor": "white",
            "gridwidth": 2,
            "linecolor": "white",
            "showbackground": true,
            "ticks": "",
            "zerolinecolor": "white"
           },
           "yaxis": {
            "backgroundcolor": "#E5ECF6",
            "gridcolor": "white",
            "gridwidth": 2,
            "linecolor": "white",
            "showbackground": true,
            "ticks": "",
            "zerolinecolor": "white"
           },
           "zaxis": {
            "backgroundcolor": "#E5ECF6",
            "gridcolor": "white",
            "gridwidth": 2,
            "linecolor": "white",
            "showbackground": true,
            "ticks": "",
            "zerolinecolor": "white"
           }
          },
          "shapedefaults": {
           "line": {
            "color": "#2a3f5f"
           }
          },
          "ternary": {
           "aaxis": {
            "gridcolor": "white",
            "linecolor": "white",
            "ticks": ""
           },
           "baxis": {
            "gridcolor": "white",
            "linecolor": "white",
            "ticks": ""
           },
           "bgcolor": "#E5ECF6",
           "caxis": {
            "gridcolor": "white",
            "linecolor": "white",
            "ticks": ""
           }
          },
          "title": {
           "x": 0.05
          },
          "xaxis": {
           "automargin": true,
           "gridcolor": "white",
           "linecolor": "white",
           "ticks": "",
           "title": {
            "standoff": 15
           },
           "zerolinecolor": "white",
           "zerolinewidth": 2
          },
          "yaxis": {
           "automargin": true,
           "gridcolor": "white",
           "linecolor": "white",
           "ticks": "",
           "title": {
            "standoff": 15
           },
           "zerolinecolor": "white",
           "zerolinewidth": 2
          }
         }
        },
        "title": {
         "text": "Name Similarity Heatmap"
        },
        "xaxis": {
         "side": "top"
        },
        "yaxis": {
         "autorange": "reversed"
        }
       }
      }
     },
     "metadata": {},
     "output_type": "display_data"
    }
   ],
   "source": [
    "names = similarity_matrix.index.tolist()\n",
    "similarity_matrix = similarity_matrix.values\n",
    "\n",
    "fig = go.Figure(data=go.Heatmap(\n",
    "    z=similarity_matrix,\n",
    "    x=names,\n",
    "    y=names,\n",
    "    colorscale='Viridis',\n",
    "    zmin=0,\n",
    "    zmax=1,\n",
    "    colorbar=dict(title=\"Similarity\"),\n",
    "    hovertemplate=\"Name 1: %{y}<br>Name 2: %{x}<br>Similarity: %{z:.2f}<extra></extra>\"\n",
    "))\n",
    "\n",
    "fig.update_layout(\n",
    "    title=\"Name Similarity Heatmap\",\n",
    "    xaxis=dict(side=\"top\"),\n",
    "    yaxis=dict(autorange=\"reversed\")  # so matrix reads top-left to bottom-right\n",
    ")\n",
    "\n",
    "fig.show()"
   ]
  },
  {
   "cell_type": "code",
   "execution_count": null,
   "id": "6436fa59",
   "metadata": {},
   "outputs": [
    {
     "data": {
      "text/plain": [
       "(11, 1)"
      ]
     },
     "metadata": {},
     "output_type": "display_data"
    }
   ],
   "source": [
    "# Make name vector, semantic and sentimnet arrays\n",
    "names = np.expand_dims(np.array(list(embeddings.keys())), 1)\n",
    "\n",
    "sentiments = np.array([embeddings[key]['sentiment'] for key in embeddings.keys()])\n",
    "semantics = np.array([embeddings[key]['semantic'] for key in embeddings.keys()])\n",
    "\n",
    "# Save the embeddings to a csv\n",
    "display(names.shape)\n",
    "\n",
    "# Concatenate the arrays and create a DataFrame\n",
    "embeddings_df = np.concatenate((sentiments, semantics), axis=1)\n",
    "embeddings_df = pd.DataFrame(embeddings_df, index=names.flatten())\n",
    "\n",
    "# Write the DataFrame to a CSV file\n",
    "embeddings_df.to_csv(f'{dir}/embeddings .csv', header=False)"
   ]
  },
  {
   "cell_type": "code",
   "execution_count": null,
   "id": "133c1e97",
   "metadata": {},
   "outputs": [
    {
     "name": "stdout",
     "output_type": "stream",
     "text": [
      "\n",
      "Nearest neighbors for Sully:\n",
      "1. Blanton (distance: 1.0849)\n",
      "2. Aihan (distance: 1.1582)\n",
      "3. Hanjing (distance: 1.1724)\n",
      "4. Victoria (distance: 1.2076)\n",
      "5. Francis (distance: 1.3120)\n"
     ]
    }
   ],
   "source": [
    "# Use KNN to cluster names\n",
    "from sklearn.neighbors import NearestNeighbors\n",
    "\n",
    "knn = NearestNeighbors(n_neighbors=6)\n",
    "knn.fit(embeddings_df)\n",
    "\n",
    "# Find the nearest neighbors for the target name\n",
    "distances, indices = knn.kneighbors(embeddings_df.loc[target_name].values.reshape(1, -1))\n",
    "\n",
    "# Print the nearest neighbors not including the target name\n",
    "print(f\"\\nNearest neighbors for {target_name}:\")\n",
    "for i, index in enumerate(indices[0]):\n",
    "    neighbor_name = embeddings_df.index[index]\n",
    "    distance = distances[0][i]\n",
    "    if neighbor_name == target_name:\n",
    "        continue  # Skip the target name itself\n",
    "    print(f\"{i}. {neighbor_name} (distance: {distance:.4f})\")\n",
    "\n",
    "    "
   ]
  }
 ],
 "metadata": {
  "kernelspec": {
   "display_name": "env",
   "language": "python",
   "name": "python3"
  },
  "language_info": {
   "codemirror_mode": {
    "name": "ipython",
    "version": 3
   },
   "file_extension": ".py",
   "mimetype": "text/x-python",
   "name": "python",
   "nbconvert_exporter": "python",
   "pygments_lexer": "ipython3",
   "version": "3.12.2"
  }
 },
 "nbformat": 4,
 "nbformat_minor": 5
}
