{
 "cells": [
  {
   "cell_type": "code",
   "execution_count": null,
   "id": "eabd51c5",
   "metadata": {},
   "outputs": [],
   "source": [
    "# Imports\n",
    "from scripts.processing import pipeline\n",
    "from scripts.comparison import find_similar_names"
   ]
  },
  {
   "cell_type": "code",
   "execution_count": null,
   "id": "e9d7969c",
   "metadata": {},
   "outputs": [],
   "source": [
    "results = pipeline('data/girlnames.txt', max_results=7)\n",
    "display(results)"
   ]
  },
  {
   "cell_type": "code",
   "execution_count": 6,
   "id": "fb9e319a",
   "metadata": {},
   "outputs": [
    {
     "data": {
      "text/plain": [
       "[('Jasmin', np.float32(0.018356439)),\n",
       " ('Angelica', np.float32(0.018356428)),\n",
       " ('Hope', np.float32(0.018356428)),\n",
       " ('Chelsea', np.float32(0.018356428)),\n",
       " ('Alana', np.float32(0.018356428)),\n",
       " ('Liliana', np.float32(0.018356428)),\n",
       " ('Brittany', np.float32(0.018356428)),\n",
       " ('Camila', np.float32(0.018356428)),\n",
       " ('Makenzie', np.float32(0.018356428)),\n",
       " ('Veronica', np.float32(0.018356428))]"
      ]
     },
     "metadata": {},
     "output_type": "display_data"
    }
   ],
   "source": [
    "res = find_similar_names('Sully', results, 10)\n",
    "display(res)"
   ]
  }
 ],
 "metadata": {
  "kernelspec": {
   "display_name": "env",
   "language": "python",
   "name": "python3"
  },
  "language_info": {
   "codemirror_mode": {
    "name": "ipython",
    "version": 3
   },
   "file_extension": ".py",
   "mimetype": "text/x-python",
   "name": "python",
   "nbconvert_exporter": "python",
   "pygments_lexer": "ipython3",
   "version": "3.12.2"
  }
 },
 "nbformat": 4,
 "nbformat_minor": 5
}
